{
 "cells": [
  {
   "cell_type": "code",
   "execution_count": 32,
   "id": "3849dfe4",
   "metadata": {},
   "outputs": [],
   "source": [
    "import numpy as np\n",
    "import pandas as pd\n",
    "from datetime import datetime\n",
    "import uszipcode\n",
    "from uszipcode import SearchEngine\n",
    "\n",
    "import fredapi as fa"
   ]
  },
  {
   "cell_type": "code",
   "execution_count": 2,
   "id": "9eea2581",
   "metadata": {},
   "outputs": [
    {
     "name": "stderr",
     "output_type": "stream",
     "text": [
      "/home/diegofvargas/anaconda3/lib/python3.8/site-packages/IPython/core/interactiveshell.py:3457: DtypeWarning: Columns (11) have mixed types.Specify dtype option on import or set low_memory=False.\n",
      "  exec(code_obj, self.user_global_ns, self.user_ns)\n"
     ]
    }
   ],
   "source": [
    "df_car = pd.read_csv('used_cars_data.csv')"
   ]
  },
  {
   "cell_type": "code",
   "execution_count": 3,
   "id": "db6e69b4",
   "metadata": {},
   "outputs": [
    {
     "data": {
      "text/html": [
       "<div>\n",
       "<style scoped>\n",
       "    .dataframe tbody tr th:only-of-type {\n",
       "        vertical-align: middle;\n",
       "    }\n",
       "\n",
       "    .dataframe tbody tr th {\n",
       "        vertical-align: top;\n",
       "    }\n",
       "\n",
       "    .dataframe thead th {\n",
       "        text-align: right;\n",
       "    }\n",
       "</style>\n",
       "<table border=\"1\" class=\"dataframe\">\n",
       "  <thead>\n",
       "    <tr style=\"text-align: right;\">\n",
       "      <th></th>\n",
       "      <th>vin</th>\n",
       "      <th>back_legroom</th>\n",
       "      <th>bed</th>\n",
       "      <th>bed_height</th>\n",
       "      <th>bed_length</th>\n",
       "      <th>body_type</th>\n",
       "      <th>cabin</th>\n",
       "      <th>city</th>\n",
       "      <th>city_fuel_economy</th>\n",
       "      <th>combine_fuel_economy</th>\n",
       "      <th>...</th>\n",
       "      <th>transmission</th>\n",
       "      <th>transmission_display</th>\n",
       "      <th>trimId</th>\n",
       "      <th>trim_name</th>\n",
       "      <th>vehicle_damage_category</th>\n",
       "      <th>wheel_system</th>\n",
       "      <th>wheel_system_display</th>\n",
       "      <th>wheelbase</th>\n",
       "      <th>width</th>\n",
       "      <th>year</th>\n",
       "    </tr>\n",
       "  </thead>\n",
       "  <tbody>\n",
       "    <tr>\n",
       "      <th>0</th>\n",
       "      <td>ZACNJABB5KPJ92081</td>\n",
       "      <td>35.1 in</td>\n",
       "      <td>NaN</td>\n",
       "      <td>NaN</td>\n",
       "      <td>NaN</td>\n",
       "      <td>SUV / Crossover</td>\n",
       "      <td>NaN</td>\n",
       "      <td>Bayamon</td>\n",
       "      <td>NaN</td>\n",
       "      <td>NaN</td>\n",
       "      <td>...</td>\n",
       "      <td>A</td>\n",
       "      <td>9-Speed Automatic Overdrive</td>\n",
       "      <td>t83804</td>\n",
       "      <td>Latitude FWD</td>\n",
       "      <td>NaN</td>\n",
       "      <td>FWD</td>\n",
       "      <td>Front-Wheel Drive</td>\n",
       "      <td>101.2 in</td>\n",
       "      <td>79.6 in</td>\n",
       "      <td>2019</td>\n",
       "    </tr>\n",
       "    <tr>\n",
       "      <th>1</th>\n",
       "      <td>SALCJ2FX1LH858117</td>\n",
       "      <td>38.1 in</td>\n",
       "      <td>NaN</td>\n",
       "      <td>NaN</td>\n",
       "      <td>NaN</td>\n",
       "      <td>SUV / Crossover</td>\n",
       "      <td>NaN</td>\n",
       "      <td>San Juan</td>\n",
       "      <td>NaN</td>\n",
       "      <td>NaN</td>\n",
       "      <td>...</td>\n",
       "      <td>A</td>\n",
       "      <td>9-Speed Automatic Overdrive</td>\n",
       "      <td>t86759</td>\n",
       "      <td>S AWD</td>\n",
       "      <td>NaN</td>\n",
       "      <td>AWD</td>\n",
       "      <td>All-Wheel Drive</td>\n",
       "      <td>107.9 in</td>\n",
       "      <td>85.6 in</td>\n",
       "      <td>2020</td>\n",
       "    </tr>\n",
       "    <tr>\n",
       "      <th>2</th>\n",
       "      <td>JF1VA2M67G9829723</td>\n",
       "      <td>35.4 in</td>\n",
       "      <td>NaN</td>\n",
       "      <td>NaN</td>\n",
       "      <td>NaN</td>\n",
       "      <td>Sedan</td>\n",
       "      <td>NaN</td>\n",
       "      <td>Guaynabo</td>\n",
       "      <td>17.0</td>\n",
       "      <td>NaN</td>\n",
       "      <td>...</td>\n",
       "      <td>M</td>\n",
       "      <td>6-Speed Manual</td>\n",
       "      <td>t58994</td>\n",
       "      <td>Base</td>\n",
       "      <td>NaN</td>\n",
       "      <td>AWD</td>\n",
       "      <td>All-Wheel Drive</td>\n",
       "      <td>104.3 in</td>\n",
       "      <td>78.9 in</td>\n",
       "      <td>2016</td>\n",
       "    </tr>\n",
       "    <tr>\n",
       "      <th>3</th>\n",
       "      <td>SALRR2RV0L2433391</td>\n",
       "      <td>37.6 in</td>\n",
       "      <td>NaN</td>\n",
       "      <td>NaN</td>\n",
       "      <td>NaN</td>\n",
       "      <td>SUV / Crossover</td>\n",
       "      <td>NaN</td>\n",
       "      <td>San Juan</td>\n",
       "      <td>NaN</td>\n",
       "      <td>NaN</td>\n",
       "      <td>...</td>\n",
       "      <td>A</td>\n",
       "      <td>8-Speed Automatic Overdrive</td>\n",
       "      <td>t86074</td>\n",
       "      <td>V6 HSE AWD</td>\n",
       "      <td>NaN</td>\n",
       "      <td>AWD</td>\n",
       "      <td>All-Wheel Drive</td>\n",
       "      <td>115 in</td>\n",
       "      <td>87.4 in</td>\n",
       "      <td>2020</td>\n",
       "    </tr>\n",
       "    <tr>\n",
       "      <th>4</th>\n",
       "      <td>SALCJ2FXXLH862327</td>\n",
       "      <td>38.1 in</td>\n",
       "      <td>NaN</td>\n",
       "      <td>NaN</td>\n",
       "      <td>NaN</td>\n",
       "      <td>SUV / Crossover</td>\n",
       "      <td>NaN</td>\n",
       "      <td>San Juan</td>\n",
       "      <td>NaN</td>\n",
       "      <td>NaN</td>\n",
       "      <td>...</td>\n",
       "      <td>A</td>\n",
       "      <td>9-Speed Automatic Overdrive</td>\n",
       "      <td>t86759</td>\n",
       "      <td>S AWD</td>\n",
       "      <td>NaN</td>\n",
       "      <td>AWD</td>\n",
       "      <td>All-Wheel Drive</td>\n",
       "      <td>107.9 in</td>\n",
       "      <td>85.6 in</td>\n",
       "      <td>2020</td>\n",
       "    </tr>\n",
       "  </tbody>\n",
       "</table>\n",
       "<p>5 rows × 66 columns</p>\n",
       "</div>"
      ],
      "text/plain": [
       "                 vin back_legroom  bed bed_height bed_length        body_type  \\\n",
       "0  ZACNJABB5KPJ92081      35.1 in  NaN        NaN        NaN  SUV / Crossover   \n",
       "1  SALCJ2FX1LH858117      38.1 in  NaN        NaN        NaN  SUV / Crossover   \n",
       "2  JF1VA2M67G9829723      35.4 in  NaN        NaN        NaN            Sedan   \n",
       "3  SALRR2RV0L2433391      37.6 in  NaN        NaN        NaN  SUV / Crossover   \n",
       "4  SALCJ2FXXLH862327      38.1 in  NaN        NaN        NaN  SUV / Crossover   \n",
       "\n",
       "  cabin      city  city_fuel_economy  combine_fuel_economy  ...  transmission  \\\n",
       "0   NaN   Bayamon                NaN                   NaN  ...             A   \n",
       "1   NaN  San Juan                NaN                   NaN  ...             A   \n",
       "2   NaN  Guaynabo               17.0                   NaN  ...             M   \n",
       "3   NaN  San Juan                NaN                   NaN  ...             A   \n",
       "4   NaN  San Juan                NaN                   NaN  ...             A   \n",
       "\n",
       "          transmission_display  trimId     trim_name  vehicle_damage_category  \\\n",
       "0  9-Speed Automatic Overdrive  t83804  Latitude FWD                      NaN   \n",
       "1  9-Speed Automatic Overdrive  t86759         S AWD                      NaN   \n",
       "2               6-Speed Manual  t58994          Base                      NaN   \n",
       "3  8-Speed Automatic Overdrive  t86074    V6 HSE AWD                      NaN   \n",
       "4  9-Speed Automatic Overdrive  t86759         S AWD                      NaN   \n",
       "\n",
       "  wheel_system wheel_system_display wheelbase    width  year  \n",
       "0          FWD    Front-Wheel Drive  101.2 in  79.6 in  2019  \n",
       "1          AWD      All-Wheel Drive  107.9 in  85.6 in  2020  \n",
       "2          AWD      All-Wheel Drive  104.3 in  78.9 in  2016  \n",
       "3          AWD      All-Wheel Drive    115 in  87.4 in  2020  \n",
       "4          AWD      All-Wheel Drive  107.9 in  85.6 in  2020  \n",
       "\n",
       "[5 rows x 66 columns]"
      ]
     },
     "execution_count": 3,
     "metadata": {},
     "output_type": "execute_result"
    }
   ],
   "source": [
    "df_car.head()"
   ]
  },
  {
   "cell_type": "code",
   "execution_count": 4,
   "id": "c062ebfa",
   "metadata": {},
   "outputs": [
    {
     "data": {
      "text/plain": [
       "'https://static.cargurus.com/images/forsale/2020/08/26/21/29/2017_nissan_rogue-pic-7031015011042504119-152x114.jpeg'"
      ]
     },
     "execution_count": 4,
     "metadata": {},
     "output_type": "execute_result"
    }
   ],
   "source": [
    "df_car['main_picture_url'][11425]"
   ]
  },
  {
   "cell_type": "code",
   "execution_count": 5,
   "id": "7b1ea959",
   "metadata": {},
   "outputs": [],
   "source": [
    "#replace empty values with NaN\n",
    "df_car = df_car.replace(r'^\\s*$', np.nan, regex=True)"
   ]
  },
  {
   "cell_type": "code",
   "execution_count": 6,
   "id": "32921273",
   "metadata": {},
   "outputs": [
    {
     "data": {
      "text/plain": [
       "vehicle_damage_category    1.000000\n",
       "combine_fuel_economy       1.000000\n",
       "is_certified               1.000000\n",
       "bed                        0.993477\n",
       "cabin                      0.978823\n",
       "is_oemcpo                  0.954880\n",
       "is_cpo                     0.939035\n",
       "bed_height                 0.856969\n",
       "bed_length                 0.856969\n",
       "owner_count                0.505664\n",
       "fleet                      0.475525\n",
       "theft_title                0.475525\n",
       "isCab                      0.475525\n",
       "has_accidents              0.475525\n",
       "frame_damaged              0.475525\n",
       "salvage                    0.475525\n",
       "franchise_make             0.190876\n",
       "torque                     0.172595\n",
       "highway_fuel_economy       0.163759\n",
       "city_fuel_economy          0.163759\n",
       "power                      0.160473\n",
       "main_picture_url           0.123029\n",
       "dtype: float64"
      ]
     },
     "execution_count": 6,
     "metadata": {},
     "output_type": "execute_result"
    }
   ],
   "source": [
    "(df_car.isnull().sum()/len(df_car)).sort_values(ascending=False)[(df_car.isnull().sum()/len(df_car)).sort_values(ascending=False)>.1]"
   ]
  },
  {
   "cell_type": "code",
   "execution_count": 7,
   "id": "34053658",
   "metadata": {},
   "outputs": [],
   "source": [
    "#Drop columns that have over 20% of nulls\n",
    "df_car.drop(['vehicle_damage_category','combine_fuel_economy','is_certified','bed',\n",
    "             'cabin','is_oemcpo','is_cpo','bed_height','bed_length','owner_count',\n",
    "             'fleet','theft_title','isCab','has_accidents','frame_damaged','salvage'],\n",
    "            axis=1, inplace=True)"
   ]
  },
  {
   "cell_type": "code",
   "execution_count": 8,
   "id": "d126917d",
   "metadata": {},
   "outputs": [],
   "source": [
    "#Drop columns that don't add predictive power\n",
    "df_car.drop(['vin','city','description','engine_type','exterior_color','interior_color',\n",
    "            'franchise_make','listing_id','main_picture_url','major_options','sp_id',\n",
    "             'sp_name','trimId','trim_name','wheel_system'], axis=1, inplace=True)"
   ]
  },
  {
   "cell_type": "code",
   "execution_count": 9,
   "id": "ad387b16",
   "metadata": {},
   "outputs": [
    {
     "data": {
      "text/plain": [
       "Index(['back_legroom', 'body_type', 'city_fuel_economy', 'daysonmarket',\n",
       "       'dealer_zip', 'engine_cylinders', 'engine_displacement',\n",
       "       'franchise_dealer', 'front_legroom', 'fuel_tank_volume', 'fuel_type',\n",
       "       'height', 'highway_fuel_economy', 'horsepower', 'is_new', 'latitude',\n",
       "       'length', 'listed_date', 'listing_color', 'longitude', 'make_name',\n",
       "       'maximum_seating', 'mileage', 'model_name', 'power', 'price',\n",
       "       'savings_amount', 'seller_rating', 'torque', 'transmission',\n",
       "       'transmission_display', 'wheel_system_display', 'wheelbase', 'width',\n",
       "       'year'],\n",
       "      dtype='object')"
      ]
     },
     "execution_count": 9,
     "metadata": {},
     "output_type": "execute_result"
    }
   ],
   "source": [
    "df_car.columns"
   ]
  },
  {
   "cell_type": "code",
   "execution_count": 14,
   "id": "47cc112f",
   "metadata": {
    "scrolled": false
   },
   "outputs": [
    {
     "data": {
      "text/plain": [
       "F-150                 128586\n",
       "Silverado 1500         73221\n",
       "1500                   69117\n",
       "Equinox                63341\n",
       "Escape                 56905\n",
       "Explorer               49001\n",
       "Rogue                  48470\n",
       "Grand Cherokee         45602\n",
       "Camry                  43618\n",
       "CR-V                   43409\n",
       "Fusion                 41650\n",
       "Altima                 38791\n",
       "Accord                 38084\n",
       "Civic                  37985\n",
       "Trax                   37608\n",
       "Corolla                36478\n",
       "Cherokee               31703\n",
       "RAV4                   30891\n",
       "Tucson                 30022\n",
       "Malibu                 30004\n",
       "Edge                   29274\n",
       "Sentra                 27917\n",
       "Wrangler Unlimited     27151\n",
       "Traverse               26887\n",
       "CX-5                   26658\n",
       "Highlander             26433\n",
       "Elantra                26204\n",
       "Sierra 1500            26109\n",
       "Terrain                23547\n",
       "Sonata                 23216\n",
       "Compass                23128\n",
       "Jetta                  22470\n",
       "Pilot                  22395\n",
       "Expedition             21527\n",
       "Grand Caravan          21454\n",
       "Outback                21162\n",
       "Acadia                 20726\n",
       "Odyssey                19702\n",
       "Tahoe                  19656\n",
       "Soul                   19403\n",
       "Sportage               18195\n",
       "Mustang                17701\n",
       "Journey                17693\n",
       "Renegade               17438\n",
       "F-250 Super Duty       17348\n",
       "Charger                17320\n",
       "2500                   16968\n",
       "Murano                 16640\n",
       "EcoSport               16635\n",
       "Encore                 16512\n",
       "Tacoma                 16501\n",
       "Sorento                15822\n",
       "Forte                  15528\n",
       "Tiguan                 14863\n",
       "Ranger                 14821\n",
       "Cruze                  14694\n",
       "Forester               14656\n",
       "Pacifica               14433\n",
       "Encore GX              14221\n",
       "Enclave                14193\n",
       "Name: model_name, dtype: int64"
      ]
     },
     "execution_count": 14,
     "metadata": {},
     "output_type": "execute_result"
    }
   ],
   "source": [
    "df_car.model_name.value_counts()[:60]"
   ]
  },
  {
   "cell_type": "code",
   "execution_count": 15,
   "id": "45ac32bd",
   "metadata": {},
   "outputs": [],
   "source": [
    "#Create numerical values out of strings\n",
    "df_car['back_legroom'] = df_car['back_legroom'].replace(r'--', np.nan)\n",
    "df_car['back_legroom'] = df_car['back_legroom'].apply(lambda x: float(x[:-3]) if isinstance(x, str) else x)"
   ]
  },
  {
   "cell_type": "code",
   "execution_count": 16,
   "id": "55898d7a",
   "metadata": {},
   "outputs": [],
   "source": [
    "#Create numerical values out of strings\n",
    "df_car['front_legroom'] = df_car['front_legroom'].replace(r'--', np.nan)\n",
    "df_car['front_legroom'] = df_car['front_legroom'].apply(lambda x: float(x[:-3]) if isinstance(x, str) else x)"
   ]
  },
  {
   "cell_type": "code",
   "execution_count": 17,
   "id": "bcc67397",
   "metadata": {},
   "outputs": [],
   "source": [
    "#Create numerical values out of strings\n",
    "df_car['fuel_tank_volume'] = df_car['fuel_tank_volume'].replace(r'--', np.nan)\n",
    "df_car['fuel_tank_volume'] = df_car['fuel_tank_volume'].apply(lambda x: float(x[:-3]) if isinstance(x, str) else x)"
   ]
  },
  {
   "cell_type": "code",
   "execution_count": 18,
   "id": "61ea60cf",
   "metadata": {},
   "outputs": [],
   "source": [
    "#Create numerical values out of strings\n",
    "df_car['height'] = df_car['height'].replace(r'--', np.nan)\n",
    "df_car['height'] = df_car['height'].apply(lambda x: float(x[:-3]) if isinstance(x, str) else x)"
   ]
  },
  {
   "cell_type": "code",
   "execution_count": 19,
   "id": "e3fbc9eb",
   "metadata": {},
   "outputs": [],
   "source": [
    "#Create numerical values out of strings\n",
    "df_car['length'] = df_car['length'].replace(r'--', np.nan)\n",
    "df_car['length'] = df_car['length'].apply(lambda x: float(x[:-3]) if isinstance(x, str) else x)"
   ]
  },
  {
   "cell_type": "code",
   "execution_count": 20,
   "id": "13f712e8",
   "metadata": {},
   "outputs": [],
   "source": [
    "#Create numerical values out of strings\n",
    "df_car['maximum_seating'] = df_car['maximum_seating'].replace(r'--', np.nan)\n",
    "df_car['maximum_seating'] = df_car['maximum_seating'].apply(lambda x: float(x[:-6]) if isinstance(x, str) else x)"
   ]
  },
  {
   "cell_type": "code",
   "execution_count": 21,
   "id": "8c8609f0",
   "metadata": {},
   "outputs": [],
   "source": [
    "#Create numerical values out of strings\n",
    "df_car['wheelbase'] = df_car['wheelbase'].replace(r'--', np.nan)\n",
    "df_car['wheelbase'] = df_car['wheelbase'].apply(lambda x: float(x[:-3]) if isinstance(x, str) else x)"
   ]
  },
  {
   "cell_type": "code",
   "execution_count": 22,
   "id": "09dd65fe",
   "metadata": {},
   "outputs": [],
   "source": [
    "#Create numerical values out of strings\n",
    "df_car['width'] = df_car['width'].replace(r'--', np.nan)\n",
    "df_car['width'] = df_car['width'].apply(lambda x: float(x[:-3]) if isinstance(x, str) else x)"
   ]
  },
  {
   "cell_type": "code",
   "execution_count": 23,
   "id": "1be7571f",
   "metadata": {},
   "outputs": [],
   "source": [
    "#Some are negative, need to check why\n",
    "df_car['listing_age'] = df_car.listed_date.apply(lambda x: datetime.strptime(x, \"%Y-%m-%d\").year) - df_car.year"
   ]
  },
  {
   "cell_type": "code",
   "execution_count": 24,
   "id": "ca6851cd",
   "metadata": {},
   "outputs": [],
   "source": [
    "#Create numerical values out of strings\n",
    "df_car['power'] = df_car['power'].replace(r'--', np.nan)\n",
    "df_car['power'] = df_car['power'].apply(lambda x: int(x.replace(',', '').split(' hp')[0]) if isinstance(x, str) else x)"
   ]
  },
  {
   "cell_type": "code",
   "execution_count": 25,
   "id": "e463f0d1",
   "metadata": {},
   "outputs": [],
   "source": [
    "#Create numerical values out of strings\n",
    "df_car['torque'] = df_car['torque'].replace(r'--', np.nan)\n",
    "df_car['torque'] = df_car['torque'].apply(lambda x: int(x.replace(',', '').split(' lb-ft')[0]) if isinstance(x, str) else x)"
   ]
  },
  {
   "cell_type": "code",
   "execution_count": 36,
   "id": "88d193c0",
   "metadata": {},
   "outputs": [],
   "source": [
    "#Code to convert zip code to states and then unto region, to cut down on dimensionality"
   ]
  },
  {
   "cell_type": "code",
   "execution_count": 33,
   "id": "ec4af646",
   "metadata": {},
   "outputs": [
    {
     "name": "stdout",
     "output_type": "stream",
     "text": [
      "Download /home/diegofvargas/.uszipcode/simple_db.sqlite from https://github.com/MacHu-GWU/uszipcode-project/releases/download/1.0.1.db/simple_db.sqlite ...\n",
      "  1.00 MB downloaded ...\n",
      "  2.00 MB downloaded ...\n",
      "  3.00 MB downloaded ...\n",
      "  4.00 MB downloaded ...\n",
      "  5.00 MB downloaded ...\n",
      "  6.00 MB downloaded ...\n",
      "  7.00 MB downloaded ...\n",
      "  8.00 MB downloaded ...\n",
      "  9.00 MB downloaded ...\n",
      "  10.00 MB downloaded ...\n",
      "  11.00 MB downloaded ...\n",
      "  Complete!\n"
     ]
    }
   ],
   "source": [
    "search = SearchEngine()"
   ]
  },
  {
   "cell_type": "code",
   "execution_count": 43,
   "id": "b623b8a6",
   "metadata": {},
   "outputs": [],
   "source": [
    "states_to_regions = {\n",
    "    'Washington': 'West', 'Oregon': 'West', 'California': 'West', 'Nevada': 'West',\n",
    "    'Idaho': 'West', 'Montana': 'West', 'Wyoming': 'West', 'Utah': 'West',\n",
    "    'Colorado': 'West', 'Alaska': 'West', 'Hawaii': 'West', 'Maine': 'Northeast',\n",
    "    'Vermont': 'Northeast', 'New York': 'Northeast', 'New Hampshire': 'Northeast',\n",
    "    'Massachusetts': 'Northeast', 'Rhode Island': 'Northeast', 'Connecticut': 'Northeast',\n",
    "    'New Jersey': 'Northeast', 'Pennsylvania': 'Northeast', 'North Dakota': 'Midwest',\n",
    "    'South Dakota': 'Midwest', 'Nebraska': 'Midwest', 'Kansas': 'Midwest',\n",
    "    'Minnesota': 'Midwest', 'Iowa': 'Midwest', 'Missouri': 'Midwest', 'Wisconsin': 'Midwest',\n",
    "    'Illinois': 'Midwest', 'Michigan': 'Midwest', 'Indiana': 'Midwest', 'Ohio': 'Midwest',\n",
    "    'West Virginia': 'South', 'District of Columbia': 'South', 'Maryland': 'South',\n",
    "    'Virginia': 'South', 'Kentucky': 'South', 'Tennessee': 'South', 'North Carolina': 'South',\n",
    "    'Mississippi': 'South', 'Arkansas': 'South', 'Louisiana': 'South', 'Alabama': 'South',\n",
    "    'Georgia': 'South', 'South Carolina': 'South', 'Florida': 'South', 'Delaware': 'South',\n",
    "    'Arizona': 'Southwest', 'New Mexico': 'Southwest', 'Oklahoma': 'Southwest',\n",
    "    'Texas': 'Southwest', 'Puerto Rico':'Puerto Rico'}"
   ]
  },
  {
   "cell_type": "code",
   "execution_count": 38,
   "id": "805734b1",
   "metadata": {},
   "outputs": [],
   "source": [
    "states = {\n",
    "        'AK': 'Alaska',\n",
    "        'AL': 'Alabama',\n",
    "        'AR': 'Arkansas',\n",
    "        'AS': 'American Samoa',\n",
    "        'AZ': 'Arizona',\n",
    "        'CA': 'California',\n",
    "        'CO': 'Colorado',\n",
    "        'CT': 'Connecticut',\n",
    "        'DC': 'District of Columbia',\n",
    "        'DE': 'Delaware',\n",
    "        'FL': 'Florida',\n",
    "        'GA': 'Georgia',\n",
    "        'GU': 'Guam',\n",
    "        'HI': 'Hawaii',\n",
    "        'IA': 'Iowa',\n",
    "        'ID': 'Idaho',\n",
    "        'IL': 'Illinois',\n",
    "        'IN': 'Indiana',\n",
    "        'KS': 'Kansas',\n",
    "        'KY': 'Kentucky',\n",
    "        'LA': 'Louisiana',\n",
    "        'MA': 'Massachusetts',\n",
    "        'MD': 'Maryland',\n",
    "        'ME': 'Maine',\n",
    "        'MI': 'Michigan',\n",
    "        'MN': 'Minnesota',\n",
    "        'MO': 'Missouri',\n",
    "        'MP': 'Northern Mariana Islands',\n",
    "        'MS': 'Mississippi',\n",
    "        'MT': 'Montana',\n",
    "        'NA': 'National',\n",
    "        'NC': 'North Carolina',\n",
    "        'ND': 'North Dakota',\n",
    "        'NE': 'Nebraska',\n",
    "        'NH': 'New Hampshire',\n",
    "        'NJ': 'New Jersey',\n",
    "        'NM': 'New Mexico',\n",
    "        'NV': 'Nevada',\n",
    "        'NY': 'New York',\n",
    "        'OH': 'Ohio',\n",
    "        'OK': 'Oklahoma',\n",
    "        'OR': 'Oregon',\n",
    "        'PA': 'Pennsylvania',\n",
    "        'PR': 'Puerto Rico',\n",
    "        'RI': 'Rhode Island',\n",
    "        'SC': 'South Carolina',\n",
    "        'SD': 'South Dakota',\n",
    "        'TN': 'Tennessee',\n",
    "        'TX': 'Texas',\n",
    "        'UT': 'Utah',\n",
    "        'VA': 'Virginia',\n",
    "        'VI': 'Virgin Islands',\n",
    "        'VT': 'Vermont',\n",
    "        'WA': 'Washington',\n",
    "        'WI': 'Wisconsin',\n",
    "        'WV': 'West Virginia',\n",
    "        'WY': 'Wyoming'\n",
    "}"
   ]
  },
  {
   "cell_type": "code",
   "execution_count": 54,
   "id": "357b0021",
   "metadata": {},
   "outputs": [
    {
     "data": {
      "text/plain": [
       "'Puerto Rico'"
      ]
     },
     "execution_count": 54,
     "metadata": {},
     "output_type": "execute_result"
    }
   ],
   "source": [
    "search.by_zipcode(960).state_long"
   ]
  },
  {
   "cell_type": "code",
   "execution_count": 46,
   "id": "09a31bd2",
   "metadata": {},
   "outputs": [],
   "source": [
    "def state_search(zipcode):\n",
    "    result = search.by_zipcode(zipcode).state_long\n",
    "    if  result == None:\n",
    "        return 'N/A'\n",
    "    else:\n",
    "        return result"
   ]
  },
  {
   "cell_type": "code",
   "execution_count": 55,
   "id": "8f1c881a",
   "metadata": {},
   "outputs": [],
   "source": [
    "df_car['dealer_zip'] = df_car['dealer_zip'].apply(lambda x: x if isinstance(x, int) else x[:5])"
   ]
  },
  {
   "cell_type": "code",
   "execution_count": 56,
   "id": "0caeacb8",
   "metadata": {},
   "outputs": [],
   "source": [
    "#Find the state corresponding to a zipcode\n",
    "df_car['state'] = df_car['dealer_zip'].apply(state_search)"
   ]
  },
  {
   "cell_type": "code",
   "execution_count": 57,
   "id": "99839cfe",
   "metadata": {},
   "outputs": [],
   "source": [
    "#Find the region corresponding to a state\n",
    "df_car['region'] = df_car['state'].apply(lambda x: states_to_regions[x])"
   ]
  },
  {
   "cell_type": "code",
   "execution_count": 58,
   "id": "752c25b6",
   "metadata": {},
   "outputs": [
    {
     "data": {
      "text/plain": [
       "South          892419\n",
       "Midwest        746586\n",
       "Southwest      465850\n",
       "West           452338\n",
       "Northeast      442743\n",
       "Puerto Rico       104\n",
       "Name: region, dtype: int64"
      ]
     },
     "execution_count": 58,
     "metadata": {},
     "output_type": "execute_result"
    }
   ],
   "source": [
    "df_car['region'].value_counts()"
   ]
  },
  {
   "cell_type": "code",
   "execution_count": 61,
   "id": "337ef5e7",
   "metadata": {},
   "outputs": [],
   "source": [
    "#Drop all location related columns, only keeping region\n",
    "df_car.drop(['dealer_zip','state','latitude','longitude'], axis=1, inplace=True)"
   ]
  },
  {
   "cell_type": "code",
   "execution_count": 62,
   "id": "d1787418",
   "metadata": {},
   "outputs": [
    {
     "data": {
      "text/plain": [
       "Index(['back_legroom', 'body_type', 'city_fuel_economy', 'daysonmarket',\n",
       "       'engine_cylinders', 'engine_displacement', 'franchise_dealer',\n",
       "       'front_legroom', 'fuel_tank_volume', 'fuel_type', 'height',\n",
       "       'highway_fuel_economy', 'horsepower', 'is_new', 'length', 'listed_date',\n",
       "       'listing_color', 'make_name', 'maximum_seating', 'mileage',\n",
       "       'model_name', 'power', 'price', 'savings_amount', 'seller_rating',\n",
       "       'torque', 'transmission', 'transmission_display',\n",
       "       'wheel_system_display', 'wheelbase', 'width', 'year', 'listing_age',\n",
       "       'region'],\n",
       "      dtype='object')"
      ]
     },
     "execution_count": 62,
     "metadata": {},
     "output_type": "execute_result"
    }
   ],
   "source": [
    "df_car.columns"
   ]
  },
  {
   "cell_type": "code",
   "execution_count": null,
   "id": "f9677664",
   "metadata": {},
   "outputs": [],
   "source": [
    "#Keeping listing color and eliminating exterior and interior color columns\n",
    "#Major options has lots of features, but dropping for now\n",
    "#Keeping make_name instead of franchise_make because it is more percise\n",
    "#Figure how to deal with car models"
   ]
  },
  {
   "cell_type": "code",
   "execution_count": 63,
   "id": "8eceb7e3",
   "metadata": {},
   "outputs": [],
   "source": [
    "#converting listed_date to datetime\n",
    "df_car['listed_date'] = pd.to_datetime(df_car['listed_date'])"
   ]
  },
  {
   "cell_type": "code",
   "execution_count": 64,
   "id": "fadf6c6a",
   "metadata": {},
   "outputs": [],
   "source": [
    "#convert to string and change day to 1 to match output from FRED\n",
    "df_car['listed_date'] = df_car['listed_date'].apply(lambda x: x.replace(day=1).strftime('%Y-%m-%d'))"
   ]
  },
  {
   "cell_type": "code",
   "execution_count": 72,
   "id": "42b75db2",
   "metadata": {},
   "outputs": [
    {
     "data": {
      "text/plain": [
       "2020-08-01    0.362917\n",
       "2020-09-01    0.180426\n",
       "2020-07-01    0.175458\n",
       "2020-06-01    0.073050\n",
       "2020-03-01    0.037126\n",
       "2020-02-01    0.030440\n",
       "2020-05-01    0.027651\n",
       "2020-01-01    0.022258\n",
       "2020-04-01    0.019710\n",
       "2019-12-01    0.018234\n",
       "2019-11-01    0.014104\n",
       "2019-10-01    0.010793\n",
       "2019-09-01    0.007459\n",
       "2019-08-01    0.005451\n",
       "2019-07-01    0.002999\n",
       "2019-06-01    0.001980\n",
       "2019-05-01    0.001643\n",
       "2019-03-01    0.001249\n",
       "2019-04-01    0.001216\n",
       "2019-02-01    0.000740\n",
       "2019-01-01    0.000722\n",
       "2018-12-01    0.000660\n",
       "2018-11-01    0.000523\n",
       "2018-10-01    0.000451\n",
       "2018-09-01    0.000364\n",
       "2018-08-01    0.000328\n",
       "2018-07-01    0.000255\n",
       "2018-06-01    0.000217\n",
       "2018-05-01    0.000170\n",
       "2018-03-01    0.000145\n",
       "2018-04-01    0.000132\n",
       "2017-09-01    0.000103\n",
       "2018-02-01    0.000096\n",
       "2017-12-01    0.000084\n",
       "2018-01-01    0.000081\n",
       "2017-08-01    0.000071\n",
       "2017-10-01    0.000070\n",
       "2017-11-01    0.000051\n",
       "2017-06-01    0.000043\n",
       "2016-10-01    0.000043\n",
       "2017-05-01    0.000039\n",
       "2017-04-01    0.000038\n",
       "2015-01-01    0.000034\n",
       "2017-03-01    0.000034\n",
       "2017-07-01    0.000031\n",
       "2017-02-01    0.000031\n",
       "2016-09-01    0.000025\n",
       "2017-01-01    0.000020\n",
       "2016-12-01    0.000020\n",
       "2016-03-01    0.000018\n",
       "2016-11-01    0.000016\n",
       "2016-07-01    0.000015\n",
       "2016-05-01    0.000015\n",
       "2016-08-01    0.000015\n",
       "2016-04-01    0.000014\n",
       "2016-02-01    0.000013\n",
       "2016-06-01    0.000012\n",
       "2015-12-01    0.000009\n",
       "2015-09-01    0.000009\n",
       "2015-08-01    0.000007\n",
       "Name: listed_date, dtype: float64"
      ]
     },
     "execution_count": 72,
     "metadata": {},
     "output_type": "execute_result"
    }
   ],
   "source": [
    "df_car.listed_date.value_counts()[:60]/len(df_car)"
   ]
  },
  {
   "cell_type": "code",
   "execution_count": 15,
   "id": "fb13278b",
   "metadata": {},
   "outputs": [],
   "source": [
    "#Fred Data\n",
    "fred = fa.Fred(api_key='2268954bdb0755419c205b75e2c59d3a')"
   ]
  },
  {
   "cell_type": "code",
   "execution_count": 16,
   "id": "428873cc",
   "metadata": {},
   "outputs": [],
   "source": [
    "gdp = fred.get_series('GDP')\n",
    "gdp.name = 'gdp'"
   ]
  },
  {
   "cell_type": "code",
   "execution_count": 21,
   "id": "2efcfc84",
   "metadata": {},
   "outputs": [
    {
     "data": {
      "text/plain": [
       "1946-01          NaN\n",
       "1946-02          NaN\n",
       "1946-03          NaN\n",
       "1946-04          NaN\n",
       "1946-05          NaN\n",
       "             ...    \n",
       "2021-12    24740.480\n",
       "2022-01    24740.480\n",
       "2022-02    25248.476\n",
       "2022-03    25248.476\n",
       "2022-04    25248.476\n",
       "Freq: M, Name: gdp, Length: 916, dtype: float64"
      ]
     },
     "execution_count": 21,
     "metadata": {},
     "output_type": "execute_result"
    }
   ],
   "source": [
    "gdp.asfreq('MS', method='bfill').to_period('M')"
   ]
  },
  {
   "cell_type": "code",
   "execution_count": null,
   "id": "a65f00e5",
   "metadata": {},
   "outputs": [],
   "source": []
  }
 ],
 "metadata": {
  "kernelspec": {
   "display_name": "Python 3 (ipykernel)",
   "language": "python",
   "name": "python3"
  },
  "language_info": {
   "codemirror_mode": {
    "name": "ipython",
    "version": 3
   },
   "file_extension": ".py",
   "mimetype": "text/x-python",
   "name": "python",
   "nbconvert_exporter": "python",
   "pygments_lexer": "ipython3",
   "version": "3.8.10"
  }
 },
 "nbformat": 4,
 "nbformat_minor": 5
}
