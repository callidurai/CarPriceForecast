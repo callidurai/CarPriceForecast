{
 "cells": [
  {
   "cell_type": "code",
   "execution_count": 74,
   "id": "3849dfe4",
   "metadata": {},
   "outputs": [],
   "source": [
    "import numpy as np\n",
    "import pandas as pd\n",
    "from datetime import datetime\n",
    "import uszipcode\n",
    "from uszipcode import SearchEngine\n",
    "import gc\n",
    "\n",
    "import matplotlib.pyplot as plt\n",
    "import seaborn as sns\n",
    "\n",
    "from sklearn.preprocessing import MinMaxScaler\n",
    "from sklearn.model_selection import train_test_split\n",
    "from sklearn.model_selection import cross_val_score\n",
    "from sklearn.metrics import mean_squared_error\n",
    "from sklearn.metrics import r2_score\n",
    "from sklearn.inspection import permutation_importance\n",
    "\n",
    "from sklearn.linear_model import LinearRegression\n",
    "from sklearn.ensemble import RandomForestRegressor\n",
    "\n",
    "import fredapi as fa"
   ]
  },
  {
   "cell_type": "code",
   "execution_count": 2,
   "id": "9eea2581",
   "metadata": {},
   "outputs": [
    {
     "name": "stderr",
     "output_type": "stream",
     "text": [
      "/home/diegofvargas/anaconda3/lib/python3.8/site-packages/IPython/core/interactiveshell.py:3457: DtypeWarning: Columns (11) have mixed types.Specify dtype option on import or set low_memory=False.\n",
      "  exec(code_obj, self.user_global_ns, self.user_ns)\n"
     ]
    }
   ],
   "source": [
    "df_car = pd.read_csv('used_cars_data.csv')"
   ]
  },
  {
   "cell_type": "code",
   "execution_count": 3,
   "id": "db6e69b4",
   "metadata": {},
   "outputs": [
    {
     "name": "stdout",
     "output_type": "stream",
     "text": [
      "<class 'pandas.core.frame.DataFrame'>\n",
      "RangeIndex: 3000040 entries, 0 to 3000039\n",
      "Data columns (total 66 columns):\n",
      " #   Column                   Dtype  \n",
      "---  ------                   -----  \n",
      " 0   vin                      object \n",
      " 1   back_legroom             object \n",
      " 2   bed                      object \n",
      " 3   bed_height               object \n",
      " 4   bed_length               object \n",
      " 5   body_type                object \n",
      " 6   cabin                    object \n",
      " 7   city                     object \n",
      " 8   city_fuel_economy        float64\n",
      " 9   combine_fuel_economy     float64\n",
      " 10  daysonmarket             int64  \n",
      " 11  dealer_zip               object \n",
      " 12  description              object \n",
      " 13  engine_cylinders         object \n",
      " 14  engine_displacement      float64\n",
      " 15  engine_type              object \n",
      " 16  exterior_color           object \n",
      " 17  fleet                    object \n",
      " 18  frame_damaged            object \n",
      " 19  franchise_dealer         bool   \n",
      " 20  franchise_make           object \n",
      " 21  front_legroom            object \n",
      " 22  fuel_tank_volume         object \n",
      " 23  fuel_type                object \n",
      " 24  has_accidents            object \n",
      " 25  height                   object \n",
      " 26  highway_fuel_economy     float64\n",
      " 27  horsepower               float64\n",
      " 28  interior_color           object \n",
      " 29  isCab                    object \n",
      " 30  is_certified             float64\n",
      " 31  is_cpo                   object \n",
      " 32  is_new                   bool   \n",
      " 33  is_oemcpo                object \n",
      " 34  latitude                 float64\n",
      " 35  length                   object \n",
      " 36  listed_date              object \n",
      " 37  listing_color            object \n",
      " 38  listing_id               int64  \n",
      " 39  longitude                float64\n",
      " 40  main_picture_url         object \n",
      " 41  major_options            object \n",
      " 42  make_name                object \n",
      " 43  maximum_seating          object \n",
      " 44  mileage                  float64\n",
      " 45  model_name               object \n",
      " 46  owner_count              float64\n",
      " 47  power                    object \n",
      " 48  price                    float64\n",
      " 49  salvage                  object \n",
      " 50  savings_amount           int64  \n",
      " 51  seller_rating            float64\n",
      " 52  sp_id                    float64\n",
      " 53  sp_name                  object \n",
      " 54  theft_title              object \n",
      " 55  torque                   object \n",
      " 56  transmission             object \n",
      " 57  transmission_display     object \n",
      " 58  trimId                   object \n",
      " 59  trim_name                object \n",
      " 60  vehicle_damage_category  float64\n",
      " 61  wheel_system             object \n",
      " 62  wheel_system_display     object \n",
      " 63  wheelbase                object \n",
      " 64  width                    object \n",
      " 65  year                     int64  \n",
      "dtypes: bool(2), float64(14), int64(4), object(46)\n",
      "memory usage: 1.4+ GB\n"
     ]
    }
   ],
   "source": [
    "df_car.info()"
   ]
  },
  {
   "cell_type": "markdown",
   "id": "fe1395b5",
   "metadata": {},
   "source": [
    "## Data Prep"
   ]
  },
  {
   "cell_type": "code",
   "execution_count": 4,
   "id": "7b1ea959",
   "metadata": {},
   "outputs": [],
   "source": [
    "#replace empty values with NaN\n",
    "df_car = df_car.replace(r'^\\s*$', np.nan, regex=True)"
   ]
  },
  {
   "cell_type": "code",
   "execution_count": 5,
   "id": "32921273",
   "metadata": {},
   "outputs": [
    {
     "data": {
      "text/plain": [
       "vehicle_damage_category    1.000000\n",
       "combine_fuel_economy       1.000000\n",
       "is_certified               1.000000\n",
       "bed                        0.993477\n",
       "cabin                      0.978823\n",
       "is_oemcpo                  0.954880\n",
       "is_cpo                     0.939035\n",
       "bed_height                 0.856969\n",
       "bed_length                 0.856969\n",
       "owner_count                0.505664\n",
       "fleet                      0.475525\n",
       "theft_title                0.475525\n",
       "isCab                      0.475525\n",
       "has_accidents              0.475525\n",
       "frame_damaged              0.475525\n",
       "salvage                    0.475525\n",
       "franchise_make             0.190876\n",
       "torque                     0.172595\n",
       "highway_fuel_economy       0.163759\n",
       "city_fuel_economy          0.163759\n",
       "power                      0.160473\n",
       "main_picture_url           0.123029\n",
       "dtype: float64"
      ]
     },
     "execution_count": 5,
     "metadata": {},
     "output_type": "execute_result"
    }
   ],
   "source": [
    "(df_car.isnull().sum()/len(df_car)).sort_values(ascending=False)[(df_car.isnull().sum()/len(df_car)).sort_values(ascending=False)>.1]"
   ]
  },
  {
   "cell_type": "code",
   "execution_count": 6,
   "id": "34053658",
   "metadata": {},
   "outputs": [],
   "source": [
    "#Drop columns that have over 20% of nulls\n",
    "df_car.drop(['vehicle_damage_category','combine_fuel_economy','is_certified','bed',\n",
    "             'cabin','is_oemcpo','is_cpo','bed_height','bed_length','owner_count',\n",
    "             'fleet','theft_title','isCab','has_accidents','frame_damaged','salvage'],\n",
    "            axis=1, inplace=True)"
   ]
  },
  {
   "cell_type": "code",
   "execution_count": 7,
   "id": "d126917d",
   "metadata": {},
   "outputs": [],
   "source": [
    "#Drop columns that don't add predictive power\n",
    "df_car.drop(['vin','city','description','engine_type','exterior_color','interior_color',\n",
    "            'franchise_make','listing_id','main_picture_url','major_options','sp_id',\n",
    "             'sp_name','trimId','trim_name','wheel_system'], axis=1, inplace=True)"
   ]
  },
  {
   "cell_type": "code",
   "execution_count": 8,
   "id": "ad387b16",
   "metadata": {},
   "outputs": [
    {
     "data": {
      "text/plain": [
       "Index(['back_legroom', 'body_type', 'city_fuel_economy', 'daysonmarket',\n",
       "       'dealer_zip', 'engine_cylinders', 'engine_displacement',\n",
       "       'franchise_dealer', 'front_legroom', 'fuel_tank_volume', 'fuel_type',\n",
       "       'height', 'highway_fuel_economy', 'horsepower', 'is_new', 'latitude',\n",
       "       'length', 'listed_date', 'listing_color', 'longitude', 'make_name',\n",
       "       'maximum_seating', 'mileage', 'model_name', 'power', 'price',\n",
       "       'savings_amount', 'seller_rating', 'torque', 'transmission',\n",
       "       'transmission_display', 'wheel_system_display', 'wheelbase', 'width',\n",
       "       'year'],\n",
       "      dtype='object')"
      ]
     },
     "execution_count": 8,
     "metadata": {},
     "output_type": "execute_result"
    }
   ],
   "source": [
    "df_car.columns"
   ]
  },
  {
   "cell_type": "code",
   "execution_count": 9,
   "id": "47cc112f",
   "metadata": {
    "scrolled": false
   },
   "outputs": [],
   "source": [
    "#Because of memory issues, need to cut down on categorical values\n",
    "#For models, I'll keep the ones with a count of at least 10k, the rest will be other. This represents about 2/3 \n",
    "top_10k_models = df_car.model_name.value_counts()[df_car.model_name.value_counts()>=10000].index.tolist()\n",
    "df_car['model_name'] = df_car['model_name'].apply(lambda x: 'other' if x not in top_10k_models else x)"
   ]
  },
  {
   "cell_type": "code",
   "execution_count": 10,
   "id": "471a10a2",
   "metadata": {},
   "outputs": [],
   "source": [
    "#Similarly, will select makers with a count of over 8k, below that seems like there are more rare and luxury cars\n",
    "top_8k_makers = df_car.make_name.value_counts()[df_car.make_name.value_counts()>=8000].index.tolist()\n",
    "df_car['make_name'] = df_car['make_name'].apply(lambda x: 'other' if x not in top_8k_makers else x)"
   ]
  },
  {
   "cell_type": "code",
   "execution_count": 11,
   "id": "45ac32bd",
   "metadata": {},
   "outputs": [],
   "source": [
    "#Create numerical values out of strings\n",
    "df_car['back_legroom'] = df_car['back_legroom'].replace(r'--', np.nan)\n",
    "df_car['back_legroom'] = df_car['back_legroom'].apply(lambda x: float(x[:-3]) if isinstance(x, str) else x)"
   ]
  },
  {
   "cell_type": "code",
   "execution_count": 12,
   "id": "55898d7a",
   "metadata": {},
   "outputs": [],
   "source": [
    "#Create numerical values out of strings\n",
    "df_car['front_legroom'] = df_car['front_legroom'].replace(r'--', np.nan)\n",
    "df_car['front_legroom'] = df_car['front_legroom'].apply(lambda x: float(x[:-3]) if isinstance(x, str) else x)"
   ]
  },
  {
   "cell_type": "code",
   "execution_count": 13,
   "id": "bcc67397",
   "metadata": {},
   "outputs": [],
   "source": [
    "#Create numerical values out of strings\n",
    "df_car['fuel_tank_volume'] = df_car['fuel_tank_volume'].replace(r'--', np.nan)\n",
    "df_car['fuel_tank_volume'] = df_car['fuel_tank_volume'].apply(lambda x: float(x[:-3]) if isinstance(x, str) else x)"
   ]
  },
  {
   "cell_type": "code",
   "execution_count": 14,
   "id": "61ea60cf",
   "metadata": {},
   "outputs": [],
   "source": [
    "#Create numerical values out of strings\n",
    "df_car['height'] = df_car['height'].replace(r'--', np.nan)\n",
    "df_car['height'] = df_car['height'].apply(lambda x: float(x[:-3]) if isinstance(x, str) else x)"
   ]
  },
  {
   "cell_type": "code",
   "execution_count": 15,
   "id": "e3fbc9eb",
   "metadata": {},
   "outputs": [],
   "source": [
    "#Create numerical values out of strings\n",
    "df_car['length'] = df_car['length'].replace(r'--', np.nan)\n",
    "df_car['length'] = df_car['length'].apply(lambda x: float(x[:-3]) if isinstance(x, str) else x)"
   ]
  },
  {
   "cell_type": "code",
   "execution_count": 16,
   "id": "13f712e8",
   "metadata": {},
   "outputs": [],
   "source": [
    "#Create numerical values out of strings\n",
    "df_car['maximum_seating'] = df_car['maximum_seating'].replace(r'--', np.nan)\n",
    "df_car['maximum_seating'] = df_car['maximum_seating'].apply(lambda x: float(x[:-6]) if isinstance(x, str) else x)"
   ]
  },
  {
   "cell_type": "code",
   "execution_count": 17,
   "id": "8c8609f0",
   "metadata": {},
   "outputs": [],
   "source": [
    "#Create numerical values out of strings\n",
    "df_car['wheelbase'] = df_car['wheelbase'].replace(r'--', np.nan)\n",
    "df_car['wheelbase'] = df_car['wheelbase'].apply(lambda x: float(x[:-3]) if isinstance(x, str) else x)"
   ]
  },
  {
   "cell_type": "code",
   "execution_count": 18,
   "id": "09dd65fe",
   "metadata": {},
   "outputs": [],
   "source": [
    "#Create numerical values out of strings\n",
    "df_car['width'] = df_car['width'].replace(r'--', np.nan)\n",
    "df_car['width'] = df_car['width'].apply(lambda x: float(x[:-3]) if isinstance(x, str) else x)"
   ]
  },
  {
   "cell_type": "code",
   "execution_count": 19,
   "id": "1be7571f",
   "metadata": {},
   "outputs": [],
   "source": [
    "#Some are negative, need to check why\n",
    "df_car['listing_age'] = df_car.listed_date.apply(lambda x: datetime.strptime(x, \"%Y-%m-%d\").year) - df_car.year"
   ]
  },
  {
   "cell_type": "code",
   "execution_count": 20,
   "id": "ca6851cd",
   "metadata": {},
   "outputs": [],
   "source": [
    "#Create numerical values out of strings\n",
    "df_car['power'] = df_car['power'].replace(r'--', np.nan)\n",
    "df_car['power'] = df_car['power'].apply(lambda x: int(x.replace(',', '').split(' hp')[0]) if isinstance(x, str) else x)"
   ]
  },
  {
   "cell_type": "code",
   "execution_count": 21,
   "id": "e463f0d1",
   "metadata": {},
   "outputs": [],
   "source": [
    "#Create numerical values out of strings\n",
    "df_car['torque'] = df_car['torque'].replace(r'--', np.nan)\n",
    "df_car['torque'] = df_car['torque'].apply(lambda x: int(x.replace(',', '').split(' lb-ft')[0]) if isinstance(x, str) else x)"
   ]
  },
  {
   "cell_type": "code",
   "execution_count": 22,
   "id": "0e8eb928",
   "metadata": {},
   "outputs": [],
   "source": [
    "#Code to convert zip code to states and then unto region, to cut down on dimensionality"
   ]
  },
  {
   "cell_type": "code",
   "execution_count": 23,
   "id": "77c70a0f",
   "metadata": {},
   "outputs": [],
   "source": [
    "search = SearchEngine()"
   ]
  },
  {
   "cell_type": "code",
   "execution_count": 24,
   "id": "ceb55049",
   "metadata": {},
   "outputs": [],
   "source": [
    "states_to_regions = {\n",
    "    'Washington': 'West', 'Oregon': 'West', 'California': 'West', 'Nevada': 'West',\n",
    "    'Idaho': 'West', 'Montana': 'West', 'Wyoming': 'West', 'Utah': 'West',\n",
    "    'Colorado': 'West', 'Alaska': 'West', 'Hawaii': 'West', 'Maine': 'Northeast',\n",
    "    'Vermont': 'Northeast', 'New York': 'Northeast', 'New Hampshire': 'Northeast',\n",
    "    'Massachusetts': 'Northeast', 'Rhode Island': 'Northeast', 'Connecticut': 'Northeast',\n",
    "    'New Jersey': 'Northeast', 'Pennsylvania': 'Northeast', 'North Dakota': 'Midwest',\n",
    "    'South Dakota': 'Midwest', 'Nebraska': 'Midwest', 'Kansas': 'Midwest',\n",
    "    'Minnesota': 'Midwest', 'Iowa': 'Midwest', 'Missouri': 'Midwest', 'Wisconsin': 'Midwest',\n",
    "    'Illinois': 'Midwest', 'Michigan': 'Midwest', 'Indiana': 'Midwest', 'Ohio': 'Midwest',\n",
    "    'West Virginia': 'South', 'District of Columbia': 'South', 'Maryland': 'South',\n",
    "    'Virginia': 'South', 'Kentucky': 'South', 'Tennessee': 'South', 'North Carolina': 'South',\n",
    "    'Mississippi': 'South', 'Arkansas': 'South', 'Louisiana': 'South', 'Alabama': 'South',\n",
    "    'Georgia': 'South', 'South Carolina': 'South', 'Florida': 'South', 'Delaware': 'South',\n",
    "    'Arizona': 'Southwest', 'New Mexico': 'Southwest', 'Oklahoma': 'Southwest',\n",
    "    'Texas': 'Southwest', 'Puerto Rico':'Puerto Rico'}"
   ]
  },
  {
   "cell_type": "code",
   "execution_count": 25,
   "id": "9be4a61d",
   "metadata": {},
   "outputs": [],
   "source": [
    "states = {\n",
    "        'AK': 'Alaska',\n",
    "        'AL': 'Alabama',\n",
    "        'AR': 'Arkansas',\n",
    "        'AS': 'American Samoa',\n",
    "        'AZ': 'Arizona',\n",
    "        'CA': 'California',\n",
    "        'CO': 'Colorado',\n",
    "        'CT': 'Connecticut',\n",
    "        'DC': 'District of Columbia',\n",
    "        'DE': 'Delaware',\n",
    "        'FL': 'Florida',\n",
    "        'GA': 'Georgia',\n",
    "        'GU': 'Guam',\n",
    "        'HI': 'Hawaii',\n",
    "        'IA': 'Iowa',\n",
    "        'ID': 'Idaho',\n",
    "        'IL': 'Illinois',\n",
    "        'IN': 'Indiana',\n",
    "        'KS': 'Kansas',\n",
    "        'KY': 'Kentucky',\n",
    "        'LA': 'Louisiana',\n",
    "        'MA': 'Massachusetts',\n",
    "        'MD': 'Maryland',\n",
    "        'ME': 'Maine',\n",
    "        'MI': 'Michigan',\n",
    "        'MN': 'Minnesota',\n",
    "        'MO': 'Missouri',\n",
    "        'MP': 'Northern Mariana Islands',\n",
    "        'MS': 'Mississippi',\n",
    "        'MT': 'Montana',\n",
    "        'NA': 'National',\n",
    "        'NC': 'North Carolina',\n",
    "        'ND': 'North Dakota',\n",
    "        'NE': 'Nebraska',\n",
    "        'NH': 'New Hampshire',\n",
    "        'NJ': 'New Jersey',\n",
    "        'NM': 'New Mexico',\n",
    "        'NV': 'Nevada',\n",
    "        'NY': 'New York',\n",
    "        'OH': 'Ohio',\n",
    "        'OK': 'Oklahoma',\n",
    "        'OR': 'Oregon',\n",
    "        'PA': 'Pennsylvania',\n",
    "        'PR': 'Puerto Rico',\n",
    "        'RI': 'Rhode Island',\n",
    "        'SC': 'South Carolina',\n",
    "        'SD': 'South Dakota',\n",
    "        'TN': 'Tennessee',\n",
    "        'TX': 'Texas',\n",
    "        'UT': 'Utah',\n",
    "        'VA': 'Virginia',\n",
    "        'VI': 'Virgin Islands',\n",
    "        'VT': 'Vermont',\n",
    "        'WA': 'Washington',\n",
    "        'WI': 'Wisconsin',\n",
    "        'WV': 'West Virginia',\n",
    "        'WY': 'Wyoming'\n",
    "}"
   ]
  },
  {
   "cell_type": "code",
   "execution_count": 26,
   "id": "512f6083",
   "metadata": {},
   "outputs": [
    {
     "data": {
      "text/plain": [
       "'Puerto Rico'"
      ]
     },
     "execution_count": 26,
     "metadata": {},
     "output_type": "execute_result"
    }
   ],
   "source": [
    "search.by_zipcode(960).state_long"
   ]
  },
  {
   "cell_type": "code",
   "execution_count": 27,
   "id": "81f18ba8",
   "metadata": {},
   "outputs": [],
   "source": [
    "def state_search(zipcode):\n",
    "    result = search.by_zipcode(zipcode).state_long\n",
    "    if  result == None:\n",
    "        return 'N/A'\n",
    "    else:\n",
    "        return result"
   ]
  },
  {
   "cell_type": "code",
   "execution_count": 28,
   "id": "a50743d8",
   "metadata": {},
   "outputs": [],
   "source": [
    "df_car['dealer_zip'] = df_car['dealer_zip'].apply(lambda x: x if isinstance(x, int) else x[:5])"
   ]
  },
  {
   "cell_type": "code",
   "execution_count": 29,
   "id": "158564ba",
   "metadata": {},
   "outputs": [],
   "source": [
    "#Find the state corresponding to a zipcode\n",
    "df_car['state'] = df_car['dealer_zip'].apply(state_search)"
   ]
  },
  {
   "cell_type": "code",
   "execution_count": 30,
   "id": "99839cfe",
   "metadata": {},
   "outputs": [],
   "source": [
    "#Find the region corresponding to a state\n",
    "df_car['region'] = df_car['state'].apply(lambda x: states_to_regions[x])"
   ]
  },
  {
   "cell_type": "code",
   "execution_count": 31,
   "id": "9992d073",
   "metadata": {},
   "outputs": [
    {
     "data": {
      "text/plain": [
       "South          892419\n",
       "Midwest        746586\n",
       "Southwest      465850\n",
       "West           452338\n",
       "Northeast      442743\n",
       "Puerto Rico       104\n",
       "Name: region, dtype: int64"
      ]
     },
     "execution_count": 31,
     "metadata": {},
     "output_type": "execute_result"
    }
   ],
   "source": [
    "df_car['region'].value_counts()"
   ]
  },
  {
   "cell_type": "code",
   "execution_count": 32,
   "id": "041cf65d",
   "metadata": {},
   "outputs": [],
   "source": [
    "#Drop all location related columns, only keeping region\n",
    "df_car.drop(['dealer_zip','state','latitude','longitude'], axis=1, inplace=True)"
   ]
  },
  {
   "cell_type": "code",
   "execution_count": 33,
   "id": "62a44a9b",
   "metadata": {},
   "outputs": [
    {
     "data": {
      "text/plain": [
       "Index(['back_legroom', 'body_type', 'city_fuel_economy', 'daysonmarket',\n",
       "       'engine_cylinders', 'engine_displacement', 'franchise_dealer',\n",
       "       'front_legroom', 'fuel_tank_volume', 'fuel_type', 'height',\n",
       "       'highway_fuel_economy', 'horsepower', 'is_new', 'length', 'listed_date',\n",
       "       'listing_color', 'make_name', 'maximum_seating', 'mileage',\n",
       "       'model_name', 'power', 'price', 'savings_amount', 'seller_rating',\n",
       "       'torque', 'transmission', 'transmission_display',\n",
       "       'wheel_system_display', 'wheelbase', 'width', 'year', 'listing_age',\n",
       "       'region'],\n",
       "      dtype='object')"
      ]
     },
     "execution_count": 33,
     "metadata": {},
     "output_type": "execute_result"
    }
   ],
   "source": [
    "df_car.columns"
   ]
  },
  {
   "cell_type": "code",
   "execution_count": 34,
   "id": "f9677664",
   "metadata": {},
   "outputs": [],
   "source": [
    "#Keeping listing color and eliminating exterior and interior color columns\n",
    "#Major options has lots of features, but dropping for now\n",
    "#Keeping make_name instead of franchise_make because it is more percise\n",
    "#Figure how to deal with car models"
   ]
  },
  {
   "cell_type": "code",
   "execution_count": 35,
   "id": "8eceb7e3",
   "metadata": {},
   "outputs": [],
   "source": [
    "#converting listed_date to datetime\n",
    "df_car['listed_date'] = pd.to_datetime(df_car['listed_date'])"
   ]
  },
  {
   "cell_type": "code",
   "execution_count": 36,
   "id": "fadf6c6a",
   "metadata": {},
   "outputs": [],
   "source": [
    "#convert to string and change day to 1 to match output from FRED\n",
    "df_car['listed_date'] = df_car['listed_date'].apply(lambda x: x.replace(day=1).strftime('%Y-%m-%d'))"
   ]
  },
  {
   "cell_type": "code",
   "execution_count": 37,
   "id": "42b75db2",
   "metadata": {},
   "outputs": [
    {
     "data": {
      "text/plain": [
       "2020-08-01    0.362917\n",
       "2020-09-01    0.180426\n",
       "2020-07-01    0.175458\n",
       "2020-06-01    0.073050\n",
       "2020-03-01    0.037126\n",
       "2020-02-01    0.030440\n",
       "2020-05-01    0.027651\n",
       "2020-01-01    0.022258\n",
       "2020-04-01    0.019710\n",
       "2019-12-01    0.018234\n",
       "2019-11-01    0.014104\n",
       "2019-10-01    0.010793\n",
       "2019-09-01    0.007459\n",
       "2019-08-01    0.005451\n",
       "2019-07-01    0.002999\n",
       "2019-06-01    0.001980\n",
       "2019-05-01    0.001643\n",
       "2019-03-01    0.001249\n",
       "2019-04-01    0.001216\n",
       "2019-02-01    0.000740\n",
       "2019-01-01    0.000722\n",
       "2018-12-01    0.000660\n",
       "2018-11-01    0.000523\n",
       "2018-10-01    0.000451\n",
       "2018-09-01    0.000364\n",
       "2018-08-01    0.000328\n",
       "2018-07-01    0.000255\n",
       "2018-06-01    0.000217\n",
       "2018-05-01    0.000170\n",
       "2018-03-01    0.000145\n",
       "2018-04-01    0.000132\n",
       "2017-09-01    0.000103\n",
       "2018-02-01    0.000096\n",
       "2017-12-01    0.000084\n",
       "2018-01-01    0.000081\n",
       "2017-08-01    0.000071\n",
       "2017-10-01    0.000070\n",
       "2017-11-01    0.000051\n",
       "2017-06-01    0.000043\n",
       "2016-10-01    0.000043\n",
       "2017-05-01    0.000039\n",
       "2017-04-01    0.000038\n",
       "2015-01-01    0.000034\n",
       "2017-03-01    0.000034\n",
       "2017-07-01    0.000031\n",
       "2017-02-01    0.000031\n",
       "2016-09-01    0.000025\n",
       "2017-01-01    0.000020\n",
       "2016-12-01    0.000020\n",
       "2016-03-01    0.000018\n",
       "2016-11-01    0.000016\n",
       "2016-07-01    0.000015\n",
       "2016-05-01    0.000015\n",
       "2016-08-01    0.000015\n",
       "2016-04-01    0.000014\n",
       "2016-02-01    0.000013\n",
       "2016-06-01    0.000012\n",
       "2015-12-01    0.000009\n",
       "2015-09-01    0.000009\n",
       "2015-08-01    0.000007\n",
       "Name: listed_date, dtype: float64"
      ]
     },
     "execution_count": 37,
     "metadata": {},
     "output_type": "execute_result"
    }
   ],
   "source": [
    "df_car.listed_date.value_counts()[:60]/len(df_car)"
   ]
  },
  {
   "cell_type": "code",
   "execution_count": 38,
   "id": "443a8cdc",
   "metadata": {},
   "outputs": [
    {
     "data": {
      "text/plain": [
       "torque                  0.172595\n",
       "highway_fuel_economy    0.163759\n",
       "city_fuel_economy       0.163759\n",
       "power                   0.160473\n",
       "back_legroom            0.080908\n",
       "front_legroom           0.058485\n",
       "engine_displacement     0.057461\n",
       "horsepower              0.057461\n",
       "fuel_tank_volume        0.053558\n",
       "maximum_seating         0.053256\n",
       "width                   0.053249\n",
       "height                  0.053245\n",
       "length                  0.053241\n",
       "wheelbase               0.053233\n",
       "wheel_system_display    0.048910\n",
       "mileage                 0.048128\n",
       "engine_cylinders        0.033527\n",
       "fuel_type               0.027574\n",
       "transmission_display    0.021395\n",
       "transmission            0.021395\n",
       "seller_rating           0.013624\n",
       "body_type               0.004514\n",
       "dtype: float64"
      ]
     },
     "execution_count": 38,
     "metadata": {},
     "output_type": "execute_result"
    }
   ],
   "source": [
    "(df_car.isnull().sum()/len(df_car)).sort_values(ascending=False)[(df_car.isnull().sum()/len(df_car)).sort_values(ascending=False)>0]"
   ]
  },
  {
   "cell_type": "code",
   "execution_count": 39,
   "id": "bca6a97f",
   "metadata": {},
   "outputs": [
    {
     "data": {
      "text/html": [
       "<div>\n",
       "<style scoped>\n",
       "    .dataframe tbody tr th:only-of-type {\n",
       "        vertical-align: middle;\n",
       "    }\n",
       "\n",
       "    .dataframe tbody tr th {\n",
       "        vertical-align: top;\n",
       "    }\n",
       "\n",
       "    .dataframe thead th {\n",
       "        text-align: right;\n",
       "    }\n",
       "</style>\n",
       "<table border=\"1\" class=\"dataframe\">\n",
       "  <thead>\n",
       "    <tr style=\"text-align: right;\">\n",
       "      <th></th>\n",
       "      <th>body_type_lookup</th>\n",
       "      <th>mileage_lookup</th>\n",
       "    </tr>\n",
       "  </thead>\n",
       "  <tbody>\n",
       "    <tr>\n",
       "      <th>0</th>\n",
       "      <td>Convertible</td>\n",
       "      <td>39613.715781</td>\n",
       "    </tr>\n",
       "    <tr>\n",
       "      <th>1</th>\n",
       "      <td>Coupe</td>\n",
       "      <td>35712.139325</td>\n",
       "    </tr>\n",
       "    <tr>\n",
       "      <th>2</th>\n",
       "      <td>Hatchback</td>\n",
       "      <td>37324.267986</td>\n",
       "    </tr>\n",
       "    <tr>\n",
       "      <th>3</th>\n",
       "      <td>Minivan</td>\n",
       "      <td>46693.737710</td>\n",
       "    </tr>\n",
       "    <tr>\n",
       "      <th>4</th>\n",
       "      <td>Pickup Truck</td>\n",
       "      <td>31586.115560</td>\n",
       "    </tr>\n",
       "    <tr>\n",
       "      <th>5</th>\n",
       "      <td>SUV / Crossover</td>\n",
       "      <td>26506.844029</td>\n",
       "    </tr>\n",
       "    <tr>\n",
       "      <th>6</th>\n",
       "      <td>Sedan</td>\n",
       "      <td>35774.166422</td>\n",
       "    </tr>\n",
       "    <tr>\n",
       "      <th>7</th>\n",
       "      <td>Van</td>\n",
       "      <td>29756.836356</td>\n",
       "    </tr>\n",
       "    <tr>\n",
       "      <th>8</th>\n",
       "      <td>Wagon</td>\n",
       "      <td>51886.938607</td>\n",
       "    </tr>\n",
       "  </tbody>\n",
       "</table>\n",
       "</div>"
      ],
      "text/plain": [
       "  body_type_lookup  mileage_lookup\n",
       "0      Convertible    39613.715781\n",
       "1            Coupe    35712.139325\n",
       "2        Hatchback    37324.267986\n",
       "3          Minivan    46693.737710\n",
       "4     Pickup Truck    31586.115560\n",
       "5  SUV / Crossover    26506.844029\n",
       "6            Sedan    35774.166422\n",
       "7              Van    29756.836356\n",
       "8            Wagon    51886.938607"
      ]
     },
     "execution_count": 39,
     "metadata": {},
     "output_type": "execute_result"
    }
   ],
   "source": [
    "df_na_lookup = df_car.groupby('body_type').mean().reset_index()\n",
    "df_na_lookup = df_na_lookup.add_suffix('_lookup')\n",
    "df_na_lookup[['body_type_lookup','mileage_lookup']]"
   ]
  },
  {
   "cell_type": "code",
   "execution_count": 40,
   "id": "299bc73b",
   "metadata": {},
   "outputs": [],
   "source": [
    "df_car_final = pd.merge(df_car, df_na_lookup, left_on='body_type', right_on='body_type_lookup', how='left')"
   ]
  },
  {
   "cell_type": "code",
   "execution_count": 41,
   "id": "492db09a",
   "metadata": {},
   "outputs": [
    {
     "data": {
      "text/plain": [
       "True"
      ]
     },
     "execution_count": 41,
     "metadata": {},
     "output_type": "execute_result"
    }
   ],
   "source": [
    "'seller_rating_lookup' in df_car_final.columns"
   ]
  },
  {
   "cell_type": "code",
   "execution_count": 42,
   "id": "95605139",
   "metadata": {},
   "outputs": [],
   "source": [
    "#Replace null values for numerical columns by their average by body type\n",
    "#'wheel_system_display',\n",
    "#'engine_cylinders'\n",
    "#'fuel_type', 'transmission_display','transmission', \n",
    "cols_nulls = ['torque', 'highway_fuel_economy', 'city_fuel_economy', 'power', 'back_legroom', 'front_legroom', \n",
    "'engine_displacement', 'horsepower', 'fuel_tank_volume', 'maximum_seating', 'width', 'height', 'length', \n",
    "'wheelbase', 'mileage','seller_rating']\n",
    "for col in cols_nulls:\n",
    "    df_car_final[col+'_full'] = df_car_final.apply(lambda x: x[col+'_lookup'] if np.isnan(x[col]) else x[col], axis=1)"
   ]
  },
  {
   "cell_type": "code",
   "execution_count": 43,
   "id": "9a3e76b7",
   "metadata": {},
   "outputs": [],
   "source": [
    "#Drop original numerical cols that had nulls\n",
    "df_car_final.drop(cols_nulls, axis=1, inplace=True)"
   ]
  },
  {
   "cell_type": "code",
   "execution_count": 44,
   "id": "ad4067bc",
   "metadata": {},
   "outputs": [],
   "source": [
    "#Drop lookup columns\n",
    "cols_lookup = [col for col in df_car_final.columns if col[-7:]=='_lookup']\n",
    "df_car_final.drop(cols_lookup, axis=1, inplace=True)"
   ]
  },
  {
   "cell_type": "code",
   "execution_count": 45,
   "id": "0a9fb83a",
   "metadata": {},
   "outputs": [],
   "source": [
    "#Get rid of _full at the end of numerical variables\n",
    "df_car_final.columns = df_car_final.columns.str.replace('_full','')"
   ]
  },
  {
   "cell_type": "code",
   "execution_count": 46,
   "id": "4e79b4ee",
   "metadata": {},
   "outputs": [],
   "source": [
    "#Remaining nulls are in categorical values, will drop them since imputing is not helpful and there aren't that many of them\n",
    "#Lose 250k rows, but we still have 2.75mm. Good enough\n",
    "df_car_final.dropna(inplace=True)"
   ]
  },
  {
   "cell_type": "markdown",
   "id": "2031348c",
   "metadata": {},
   "source": [
    "## Bringing in FRED Data"
   ]
  },
  {
   "cell_type": "code",
   "execution_count": 47,
   "id": "fb13278b",
   "metadata": {},
   "outputs": [],
   "source": [
    "#Fred Data\n",
    "fred = fa.Fred(api_key='2268954bdb0755419c205b75e2c59d3a')"
   ]
  },
  {
   "cell_type": "code",
   "execution_count": 48,
   "id": "428873cc",
   "metadata": {},
   "outputs": [],
   "source": [
    "#gdp = fred.get_series('GDP')\n",
    "#gdp.name = 'GDP'\n",
    "unemployment = fred.get_series('UNRATE')\n",
    "unemployment.name = 'Unemployment Rate'\n",
    "sticky_cpi = fred.get_series('CORESTICKM159SFRBATL')\n",
    "sticky_cpi.name = 'Sticky CPI'\n",
    "food_cpi = fred.get_series('CPIUFDSL')\n",
    "food_cpi.name = 'Food CPI'\n",
    "mortgage_rate = fred.get_series('MORTGAGE30US')\n",
    "mortgage_rate.name = 'Mortgage Rate'\n",
    "personal_income = fred.get_series('PI')\n",
    "personal_income.name = 'Personal Income'\n",
    "savings = fred.get_series('PSAVERT')\n",
    "savings.name = 'Savings'\n",
    "yield_10y = fred.get_series('DGS10')\n",
    "yield_10y.name = '10y Yield'"
   ]
  },
  {
   "cell_type": "code",
   "execution_count": 49,
   "id": "6164ff21",
   "metadata": {},
   "outputs": [],
   "source": [
    "#resample and adjust to fit the car df for the join\n",
    "mortgage_rate = mortgage_rate.resample('M').mean()\n",
    "mortgage_rate.index = mortgage_rate.index - pd.to_timedelta(mortgage_rate.index.day - 1, unit='d')\n",
    "\n",
    "yield_10y = yield_10y.resample('M').mean()\n",
    "yield_10y.index = yield_10y.index - pd.to_timedelta(yield_10y.index.day - 1, unit='d')"
   ]
  },
  {
   "cell_type": "code",
   "execution_count": 50,
   "id": "d44e5797",
   "metadata": {},
   "outputs": [],
   "source": [
    "df_econ = pd.DataFrame([mortgage_rate, yield_10y, savings, personal_income, food_cpi, sticky_cpi, unemployment]).T"
   ]
  },
  {
   "cell_type": "markdown",
   "id": "6a1c4869",
   "metadata": {},
   "source": [
    "## Combining the data"
   ]
  },
  {
   "cell_type": "code",
   "execution_count": 51,
   "id": "c1ae400c",
   "metadata": {},
   "outputs": [],
   "source": [
    "#Change listed date to datetime, so it matches the index of the other df\n",
    "df_car_final['listed_date'] = pd.to_datetime(df_car_final['listed_date'])"
   ]
  },
  {
   "cell_type": "code",
   "execution_count": 52,
   "id": "7fca4cdd",
   "metadata": {},
   "outputs": [],
   "source": [
    "df_final = pd.merge(df_car_final, df_econ, left_on='listed_date', right_on=df_econ.index, how='left')"
   ]
  },
  {
   "cell_type": "code",
   "execution_count": 53,
   "id": "d8c93f5c",
   "metadata": {},
   "outputs": [],
   "source": [
    "#Drop this column since it wont be used for modeling\n",
    "df_final.drop('listed_date', axis=1, inplace=True)\n",
    "#Dropping power since its so similar to horsepower and had more null values originally\n",
    "df_final.drop('power', axis=1, inplace=True)\n",
    "#dropping year since the listing age field captures this information in a better way for the model\n",
    "df_final.drop('year', axis=1, inplace=True)"
   ]
  },
  {
   "cell_type": "code",
   "execution_count": 54,
   "id": "83f13b83",
   "metadata": {},
   "outputs": [
    {
     "name": "stdout",
     "output_type": "stream",
     "text": [
      "<class 'pandas.core.frame.DataFrame'>\n",
      "Int64Index: 2751363 entries, 0 to 2751362\n",
      "Data columns (total 38 columns):\n",
      " #   Column                Dtype  \n",
      "---  ------                -----  \n",
      " 0   body_type             object \n",
      " 1   daysonmarket          int64  \n",
      " 2   engine_cylinders      object \n",
      " 3   franchise_dealer      bool   \n",
      " 4   fuel_type             object \n",
      " 5   is_new                bool   \n",
      " 6   listing_color         object \n",
      " 7   make_name             object \n",
      " 8   model_name            object \n",
      " 9   price                 float64\n",
      " 10  savings_amount        int64  \n",
      " 11  transmission          object \n",
      " 12  transmission_display  object \n",
      " 13  wheel_system_display  object \n",
      " 14  listing_age           int64  \n",
      " 15  region                object \n",
      " 16  torque                float64\n",
      " 17  highway_fuel_economy  float64\n",
      " 18  city_fuel_economy     float64\n",
      " 19  back_legroom          float64\n",
      " 20  front_legroom         float64\n",
      " 21  engine_displacement   float64\n",
      " 22  horsepower            float64\n",
      " 23  fuel_tank_volume      float64\n",
      " 24  maximum_seating       float64\n",
      " 25  width                 float64\n",
      " 26  height                float64\n",
      " 27  length                float64\n",
      " 28  wheelbase             float64\n",
      " 29  mileage               float64\n",
      " 30  seller_rating         float64\n",
      " 31  Mortgage Rate         float64\n",
      " 32  10y Yield             float64\n",
      " 33  Savings               float64\n",
      " 34  Personal Income       float64\n",
      " 35  Food CPI              float64\n",
      " 36  Sticky CPI            float64\n",
      " 37  Unemployment Rate     float64\n",
      "dtypes: bool(2), float64(23), int64(3), object(10)\n",
      "memory usage: 781.9+ MB\n"
     ]
    }
   ],
   "source": [
    "df_final.info()"
   ]
  },
  {
   "cell_type": "markdown",
   "id": "2baf4b2d",
   "metadata": {},
   "source": [
    "## Data Visualization"
   ]
  },
  {
   "cell_type": "code",
   "execution_count": 55,
   "id": "7e81fe9d",
   "metadata": {},
   "outputs": [],
   "source": [
    "#plt.figure(figsize=(20,12))\n",
    "#mask = np.triu(np.ones_like(df_final.corr(), dtype= bool))\n",
    "#sns.heatmap(df_final.corr(), annot=True, cmap='coolwarm', mask=mask,vmin=-1, vmax=1);"
   ]
  },
  {
   "cell_type": "code",
   "execution_count": 56,
   "id": "7d903f03",
   "metadata": {},
   "outputs": [],
   "source": [
    "#plt.figure(figsize=(8, 12))\n",
    "#sns.heatmap(df_final.corr()[['price']].sort_values(by='price', ascending=False), vmin=-1, vmax=1, annot=True, cmap='coolwarm');"
   ]
  },
  {
   "cell_type": "code",
   "execution_count": 57,
   "id": "c2d81350",
   "metadata": {},
   "outputs": [],
   "source": [
    "cols_numeric = df_final.select_dtypes(include=np.number).columns.tolist()[:19]"
   ]
  },
  {
   "cell_type": "code",
   "execution_count": 58,
   "id": "e6c3ff0c",
   "metadata": {},
   "outputs": [],
   "source": [
    "#plt.figure(figsize=(20,6))\n",
    "#for col in cols_numeric:\n",
    "#    sns.displot(df_final[col])"
   ]
  },
  {
   "cell_type": "code",
   "execution_count": 59,
   "id": "16adf55b",
   "metadata": {},
   "outputs": [],
   "source": [
    "#There are probably outliers in the data, but will worry about that in the second run\n",
    "#Prefer to get a baseline"
   ]
  },
  {
   "cell_type": "code",
   "execution_count": 59,
   "id": "a5443486",
   "metadata": {},
   "outputs": [
    {
     "data": {
      "text/plain": [
       "0"
      ]
     },
     "execution_count": 59,
     "metadata": {},
     "output_type": "execute_result"
    }
   ],
   "source": [
    "#del(df_car)\n",
    "#del(df_na_lookup)\n",
    "#del(df_car_final)\n",
    "#gc.collect()"
   ]
  },
  {
   "cell_type": "markdown",
   "id": "d4018d5a",
   "metadata": {},
   "source": [
    "## Model"
   ]
  },
  {
   "cell_type": "code",
   "execution_count": 60,
   "id": "40acfe2c",
   "metadata": {},
   "outputs": [],
   "source": [
    "df_model = pd.get_dummies(df_final)"
   ]
  },
  {
   "cell_type": "code",
   "execution_count": 61,
   "id": "f4441b87",
   "metadata": {},
   "outputs": [],
   "source": [
    "X = df_model.drop('price', axis=1)\n",
    "Y = df_model['price']\n",
    "X_train, X_test, y_train, y_test = train_test_split(X, Y, test_size=0.2)"
   ]
  },
  {
   "cell_type": "markdown",
   "id": "f390cced",
   "metadata": {},
   "source": [
    "### Linear Regression"
   ]
  },
  {
   "cell_type": "code",
   "execution_count": 62,
   "id": "55c5014b",
   "metadata": {},
   "outputs": [],
   "source": [
    "linear_reg = LinearRegression()"
   ]
  },
  {
   "cell_type": "code",
   "execution_count": 63,
   "id": "1bf00948",
   "metadata": {},
   "outputs": [
    {
     "data": {
      "text/plain": [
       "LinearRegression()"
      ]
     },
     "execution_count": 63,
     "metadata": {},
     "output_type": "execute_result"
    }
   ],
   "source": [
    "linear_reg.fit(X_train,y_train)"
   ]
  },
  {
   "cell_type": "code",
   "execution_count": 64,
   "id": "45c5d312",
   "metadata": {},
   "outputs": [],
   "source": [
    "y_pred = linear_reg.predict(X_test)"
   ]
  },
  {
   "cell_type": "code",
   "execution_count": 65,
   "id": "0e3083c7",
   "metadata": {},
   "outputs": [
    {
     "name": "stdout",
     "output_type": "stream",
     "text": [
      "9426.593798189519\n"
     ]
    }
   ],
   "source": [
    "#RMSE\n",
    "print(np.sqrt(mean_squared_error(y_test,y_pred)))"
   ]
  },
  {
   "cell_type": "code",
   "execution_count": 66,
   "id": "bde75c15",
   "metadata": {},
   "outputs": [
    {
     "data": {
      "text/plain": [
       "0.750955274655239"
      ]
     },
     "execution_count": 66,
     "metadata": {},
     "output_type": "execute_result"
    }
   ],
   "source": [
    "#R^2\n",
    "r2_score(y_test,y_pred)"
   ]
  },
  {
   "cell_type": "markdown",
   "id": "ec55aca6",
   "metadata": {},
   "source": [
    "### Random Forest"
   ]
  },
  {
   "cell_type": "code",
   "execution_count": 68,
   "id": "8042075a",
   "metadata": {},
   "outputs": [],
   "source": [
    "rf = RandomForestRegressor(n_estimators=100)"
   ]
  },
  {
   "cell_type": "code",
   "execution_count": 69,
   "id": "e9381ee2",
   "metadata": {},
   "outputs": [
    {
     "data": {
      "text/plain": [
       "RandomForestRegressor()"
      ]
     },
     "execution_count": 69,
     "metadata": {},
     "output_type": "execute_result"
    }
   ],
   "source": [
    "rf.fit(X_train,y_train)"
   ]
  },
  {
   "cell_type": "code",
   "execution_count": 70,
   "id": "7ac6210b",
   "metadata": {},
   "outputs": [],
   "source": [
    "rf_y_pred = rf.predict(X_test)"
   ]
  },
  {
   "cell_type": "code",
   "execution_count": 71,
   "id": "2c9a27c6",
   "metadata": {},
   "outputs": [
    {
     "name": "stdout",
     "output_type": "stream",
     "text": [
      "4895.195491712602\n"
     ]
    }
   ],
   "source": [
    "#RMSE\n",
    "print(np.sqrt(mean_squared_error(y_test,rf_y_pred)))"
   ]
  },
  {
   "cell_type": "code",
   "execution_count": 72,
   "id": "239420f8",
   "metadata": {},
   "outputs": [
    {
     "data": {
      "text/plain": [
       "0.9328404400438934"
      ]
     },
     "execution_count": 72,
     "metadata": {},
     "output_type": "execute_result"
    }
   ],
   "source": [
    "#R^2\n",
    "r2_score(y_test,rf_y_pred)"
   ]
  },
  {
   "cell_type": "code",
   "execution_count": 73,
   "id": "2ee209ac",
   "metadata": {
    "scrolled": false
   },
   "outputs": [
    {
     "data": {
      "text/plain": [
       "array([6.79261833e-03, 5.32983027e-04, 4.63398093e-03, 8.86728518e-03,\n",
       "       1.99731845e-01, 2.23210598e-02, 5.71766524e-03, 1.38713262e-02,\n",
       "       8.66216447e-03, 3.23814309e-03, 1.68203192e-02, 4.62143117e-01,\n",
       "       1.53124108e-02, 6.59375640e-03, 1.90745734e-02, 3.08195338e-02,\n",
       "       9.33288028e-03, 1.27801491e-02, 4.36960788e-02, 9.26239872e-03,\n",
       "       1.12667914e-03, 1.19844358e-03, 1.80169718e-03, 1.95184167e-03,\n",
       "       2.48532782e-03, 2.66811947e-03, 2.11073913e-03, 3.13222350e-04,\n",
       "       1.84902370e-04, 3.16201655e-05, 4.61982279e-06, 6.63293891e-05,\n",
       "       1.25904593e-03, 6.60581961e-04, 3.01104185e-05, 2.58652443e-05,\n",
       "       1.38239224e-05, 2.38763689e-08, 1.65383896e-03, 9.18324219e-06,\n",
       "       1.04774389e-05, 4.08991234e-11, 9.43108289e-05, 2.49717882e-09,\n",
       "       1.36778797e-05, 1.39150422e-06, 1.96819122e-05, 2.53578258e-06,\n",
       "       1.10070022e-07, 2.92075103e-07, 3.41322482e-05, 9.08175579e-05,\n",
       "       3.68121920e-09, 7.57286586e-07, 1.17014076e-04, 2.88773190e-08,\n",
       "       2.33807843e-03, 6.31366557e-04, 2.13112880e-03, 4.23477137e-06,\n",
       "       4.22102949e-11, 4.67636645e-05, 6.14174193e-04, 1.78474509e-05,\n",
       "       1.08503409e-03, 3.32808809e-05, 5.39057243e-07, 2.04575360e-05,\n",
       "       2.86124898e-05, 8.30131789e-08, 3.82653868e-10, 4.60589556e-06,\n",
       "       2.63729752e-06, 8.31191108e-06, 7.06846602e-10, 1.20239295e-04,\n",
       "       4.47575821e-07, 4.33912237e-04, 5.36288371e-04, 1.35916273e-03,\n",
       "       1.97906233e-04, 1.88244045e-09, 1.10166845e-03, 4.28671320e-04,\n",
       "       3.94229924e-05, 3.10623570e-05, 4.61948146e-04, 1.52143550e-04,\n",
       "       2.61649656e-05, 3.18824350e-07, 4.16555720e-06, 4.40734345e-04,\n",
       "       3.00981530e-03, 3.67490751e-06, 6.82078995e-04, 8.94986201e-04,\n",
       "       4.30076637e-05, 5.32859994e-04, 1.01151427e-04, 2.11291724e-04,\n",
       "       7.16978725e-05, 6.34117309e-04, 4.51300018e-04, 2.99816643e-05,\n",
       "       1.88463168e-04, 1.06591052e-03, 1.01416718e-04, 1.00196348e-04,\n",
       "       5.04762307e-05, 9.12303697e-05, 8.67351901e-05, 1.08870654e-04,\n",
       "       5.33781154e-05, 4.28161673e-04, 1.89657406e-03, 2.49162012e-04,\n",
       "       2.44331867e-05, 9.64049783e-05, 6.98160639e-04, 8.36849850e-06,\n",
       "       5.60648393e-04, 1.71374789e-03, 1.53022171e-05, 2.96449095e-05,\n",
       "       3.45922901e-04, 1.59976770e-05, 1.35665732e-05, 1.00097162e-02,\n",
       "       6.38348314e-06, 2.95954988e-06, 1.50181383e-05, 2.32514513e-06,\n",
       "       5.92224180e-06, 1.55855137e-06, 8.77465761e-05, 5.27422167e-06,\n",
       "       6.13958046e-05, 2.95672843e-06, 5.24869619e-06, 7.60086178e-06,\n",
       "       1.81419509e-05, 5.17688499e-06, 4.39065162e-06, 1.12816166e-06,\n",
       "       4.23520560e-06, 2.42822560e-06, 1.12795034e-06, 6.08088010e-07,\n",
       "       1.20058976e-05, 3.02619513e-06, 8.88137972e-04, 1.24881496e-06,\n",
       "       3.27598584e-05, 1.85993378e-06, 9.13847917e-07, 2.16562950e-05,\n",
       "       5.96652971e-06, 2.20865127e-04, 6.59568987e-06, 1.29662686e-05,\n",
       "       3.10318430e-05, 8.57267771e-06, 2.24708732e-06, 8.61598883e-06,\n",
       "       1.55502771e-05, 9.55792807e-05, 2.66090519e-07, 1.22599372e-06,\n",
       "       1.64416168e-04, 7.91441598e-05, 2.62095781e-06, 3.09411557e-05,\n",
       "       1.85001952e-06, 2.23687246e-06, 2.70784952e-04, 1.66540572e-06,\n",
       "       4.54363556e-04, 3.80843979e-06, 1.06810155e-06, 3.96219970e-05,\n",
       "       1.88339441e-06, 1.48329651e-06, 1.64292735e-05, 2.43856362e-06,\n",
       "       1.97394409e-06, 5.89538429e-06, 7.62187279e-06, 3.01486541e-07,\n",
       "       1.29822325e-05, 8.11365404e-07, 4.29823564e-06, 2.11941713e-06,\n",
       "       3.26004604e-04, 5.27173194e-06, 1.64022774e-06, 1.44916570e-05,\n",
       "       1.51035024e-05, 8.93047273e-06, 9.01869436e-06, 1.26370880e-06,\n",
       "       9.43413632e-07, 2.33763795e-06, 5.93371405e-06, 1.86973092e-05,\n",
       "       3.96576917e-06, 4.42392820e-06, 1.45065361e-06, 2.55217865e-05,\n",
       "       1.98161291e-06, 7.47697943e-06, 1.06182993e-07, 4.85732201e-04,\n",
       "       1.41613572e-05, 2.28985619e-02, 1.41750219e-04, 2.70626766e-05,\n",
       "       3.37959016e-05, 1.65619221e-04, 1.03440340e-06, 6.86613884e-07,\n",
       "       1.11013189e-07, 3.95405406e-06, 4.55546210e-10, 0.00000000e+00,\n",
       "       5.69910667e-08, 6.29943686e-06, 1.29463744e-06, 1.11425184e-05,\n",
       "       3.31046894e-06, 5.84414303e-09, 2.90582728e-10, 8.61606356e-07,\n",
       "       4.39581038e-10, 2.46655381e-05, 2.96653385e-06, 7.47838142e-11,\n",
       "       1.55564337e-05, 3.81775548e-07, 2.19138993e-04, 3.52561206e-05,\n",
       "       3.92625031e-07, 9.03428438e-07, 7.93570071e-04, 1.28172585e-04,\n",
       "       9.96419930e-05, 2.96301939e-06, 1.25063283e-06, 1.43915232e-05,\n",
       "       3.77409523e-06, 7.08829834e-09, 2.16551125e-04, 1.02741197e-05,\n",
       "       1.73376264e-07, 8.07460692e-06, 1.99598114e-07, 1.52564947e-04,\n",
       "       1.33310165e-05, 4.75353536e-10, 4.65328397e-04, 3.51483154e-05,\n",
       "       1.26800333e-04, 2.09728057e-03, 2.86075398e-03, 5.02891686e-04,\n",
       "       6.41685399e-03, 4.50396661e-04, 7.89440159e-04, 5.22500274e-04,\n",
       "       2.97004595e-06, 6.48835366e-04, 5.94681301e-04, 6.63025840e-04])"
      ]
     },
     "execution_count": 73,
     "metadata": {},
     "output_type": "execute_result"
    }
   ],
   "source": [
    "rf.feature_importances_"
   ]
  },
  {
   "cell_type": "code",
   "execution_count": null,
   "id": "9591f279",
   "metadata": {},
   "outputs": [],
   "source": [
    "perm_importance = permutation_importance(rf, X_test, y_test)\n",
    "sorted_idx = perm_importance.importances_mean.argsort()"
   ]
  },
  {
   "cell_type": "code",
   "execution_count": null,
   "id": "64cc6278",
   "metadata": {},
   "outputs": [],
   "source": [
    "plt.barh(boston.columns[sorted_idx], perm_importance.importances_mean[sorted_idx])\n",
    "plt.xlabel(\"Permutation Importance\")"
   ]
  }
 ],
 "metadata": {
  "kernelspec": {
   "display_name": "Python 3 (ipykernel)",
   "language": "python",
   "name": "python3"
  },
  "language_info": {
   "codemirror_mode": {
    "name": "ipython",
    "version": 3
   },
   "file_extension": ".py",
   "mimetype": "text/x-python",
   "name": "python",
   "nbconvert_exporter": "python",
   "pygments_lexer": "ipython3",
   "version": "3.8.10"
  }
 },
 "nbformat": 4,
 "nbformat_minor": 5
}
