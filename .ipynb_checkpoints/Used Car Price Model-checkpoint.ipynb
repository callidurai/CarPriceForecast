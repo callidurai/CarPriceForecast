{
 "cells": [
  {
   "cell_type": "code",
   "execution_count": 78,
   "id": "3849dfe4",
   "metadata": {},
   "outputs": [],
   "source": [
    "import numpy as np\n",
    "import pandas as pd\n",
    "from datetime import datetime\n",
    "import uszipcode\n",
    "from uszipcode import SearchEngine\n",
    "import gc\n",
    "\n",
    "import matplotlib.pyplot as plt\n",
    "import seaborn as sns\n",
    "\n",
    "from sklearn.preprocessing import MinMaxScaler\n",
    "from sklearn.model_selection import train_test_split\n",
    "from sklearn.model_selection import cross_val_score\n",
    "from sklearn.metrics import mean_squared_error\n",
    "from sklearn.metrics import r2_score\n",
    "\n",
    "from sklearn.linear_model import LinearRegression\n",
    "\n",
    "import fredapi as fa"
   ]
  },
  {
   "cell_type": "code",
   "execution_count": 2,
   "id": "9eea2581",
   "metadata": {},
   "outputs": [
    {
     "name": "stderr",
     "output_type": "stream",
     "text": [
      "/home/diegofvargas/anaconda3/lib/python3.8/site-packages/IPython/core/interactiveshell.py:3457: DtypeWarning: Columns (11) have mixed types.Specify dtype option on import or set low_memory=False.\n",
      "  exec(code_obj, self.user_global_ns, self.user_ns)\n"
     ]
    }
   ],
   "source": [
    "df_car = pd.read_csv('used_cars_data.csv')"
   ]
  },
  {
   "cell_type": "code",
   "execution_count": 3,
   "id": "db6e69b4",
   "metadata": {},
   "outputs": [
    {
     "name": "stdout",
     "output_type": "stream",
     "text": [
      "<class 'pandas.core.frame.DataFrame'>\n",
      "RangeIndex: 3000040 entries, 0 to 3000039\n",
      "Data columns (total 66 columns):\n",
      " #   Column                   Dtype  \n",
      "---  ------                   -----  \n",
      " 0   vin                      object \n",
      " 1   back_legroom             object \n",
      " 2   bed                      object \n",
      " 3   bed_height               object \n",
      " 4   bed_length               object \n",
      " 5   body_type                object \n",
      " 6   cabin                    object \n",
      " 7   city                     object \n",
      " 8   city_fuel_economy        float64\n",
      " 9   combine_fuel_economy     float64\n",
      " 10  daysonmarket             int64  \n",
      " 11  dealer_zip               object \n",
      " 12  description              object \n",
      " 13  engine_cylinders         object \n",
      " 14  engine_displacement      float64\n",
      " 15  engine_type              object \n",
      " 16  exterior_color           object \n",
      " 17  fleet                    object \n",
      " 18  frame_damaged            object \n",
      " 19  franchise_dealer         bool   \n",
      " 20  franchise_make           object \n",
      " 21  front_legroom            object \n",
      " 22  fuel_tank_volume         object \n",
      " 23  fuel_type                object \n",
      " 24  has_accidents            object \n",
      " 25  height                   object \n",
      " 26  highway_fuel_economy     float64\n",
      " 27  horsepower               float64\n",
      " 28  interior_color           object \n",
      " 29  isCab                    object \n",
      " 30  is_certified             float64\n",
      " 31  is_cpo                   object \n",
      " 32  is_new                   bool   \n",
      " 33  is_oemcpo                object \n",
      " 34  latitude                 float64\n",
      " 35  length                   object \n",
      " 36  listed_date              object \n",
      " 37  listing_color            object \n",
      " 38  listing_id               int64  \n",
      " 39  longitude                float64\n",
      " 40  main_picture_url         object \n",
      " 41  major_options            object \n",
      " 42  make_name                object \n",
      " 43  maximum_seating          object \n",
      " 44  mileage                  float64\n",
      " 45  model_name               object \n",
      " 46  owner_count              float64\n",
      " 47  power                    object \n",
      " 48  price                    float64\n",
      " 49  salvage                  object \n",
      " 50  savings_amount           int64  \n",
      " 51  seller_rating            float64\n",
      " 52  sp_id                    float64\n",
      " 53  sp_name                  object \n",
      " 54  theft_title              object \n",
      " 55  torque                   object \n",
      " 56  transmission             object \n",
      " 57  transmission_display     object \n",
      " 58  trimId                   object \n",
      " 59  trim_name                object \n",
      " 60  vehicle_damage_category  float64\n",
      " 61  wheel_system             object \n",
      " 62  wheel_system_display     object \n",
      " 63  wheelbase                object \n",
      " 64  width                    object \n",
      " 65  year                     int64  \n",
      "dtypes: bool(2), float64(14), int64(4), object(46)\n",
      "memory usage: 1.4+ GB\n"
     ]
    }
   ],
   "source": [
    "df_car.info()"
   ]
  },
  {
   "cell_type": "markdown",
   "id": "fe1395b5",
   "metadata": {},
   "source": [
    "## Data Prep"
   ]
  },
  {
   "cell_type": "code",
   "execution_count": 4,
   "id": "7b1ea959",
   "metadata": {},
   "outputs": [],
   "source": [
    "#replace empty values with NaN\n",
    "df_car = df_car.replace(r'^\\s*$', np.nan, regex=True)"
   ]
  },
  {
   "cell_type": "code",
   "execution_count": 5,
   "id": "32921273",
   "metadata": {},
   "outputs": [
    {
     "data": {
      "text/plain": [
       "vehicle_damage_category    1.000000\n",
       "combine_fuel_economy       1.000000\n",
       "is_certified               1.000000\n",
       "bed                        0.993477\n",
       "cabin                      0.978823\n",
       "is_oemcpo                  0.954880\n",
       "is_cpo                     0.939035\n",
       "bed_height                 0.856969\n",
       "bed_length                 0.856969\n",
       "owner_count                0.505664\n",
       "fleet                      0.475525\n",
       "theft_title                0.475525\n",
       "isCab                      0.475525\n",
       "has_accidents              0.475525\n",
       "frame_damaged              0.475525\n",
       "salvage                    0.475525\n",
       "franchise_make             0.190876\n",
       "torque                     0.172595\n",
       "highway_fuel_economy       0.163759\n",
       "city_fuel_economy          0.163759\n",
       "power                      0.160473\n",
       "main_picture_url           0.123029\n",
       "dtype: float64"
      ]
     },
     "execution_count": 5,
     "metadata": {},
     "output_type": "execute_result"
    }
   ],
   "source": [
    "(df_car.isnull().sum()/len(df_car)).sort_values(ascending=False)[(df_car.isnull().sum()/len(df_car)).sort_values(ascending=False)>.1]"
   ]
  },
  {
   "cell_type": "code",
   "execution_count": 6,
   "id": "34053658",
   "metadata": {},
   "outputs": [],
   "source": [
    "#Drop columns that have over 20% of nulls\n",
    "df_car.drop(['vehicle_damage_category','combine_fuel_economy','is_certified','bed',\n",
    "             'cabin','is_oemcpo','is_cpo','bed_height','bed_length','owner_count',\n",
    "             'fleet','theft_title','isCab','has_accidents','frame_damaged','salvage'],\n",
    "            axis=1, inplace=True)"
   ]
  },
  {
   "cell_type": "code",
   "execution_count": 7,
   "id": "d126917d",
   "metadata": {},
   "outputs": [],
   "source": [
    "#Drop columns that don't add predictive power\n",
    "df_car.drop(['vin','city','description','engine_type','exterior_color','interior_color',\n",
    "            'franchise_make','listing_id','main_picture_url','major_options','sp_id',\n",
    "             'sp_name','trimId','trim_name','wheel_system'], axis=1, inplace=True)"
   ]
  },
  {
   "cell_type": "code",
   "execution_count": 8,
   "id": "ad387b16",
   "metadata": {},
   "outputs": [
    {
     "data": {
      "text/plain": [
       "Index(['back_legroom', 'body_type', 'city_fuel_economy', 'daysonmarket',\n",
       "       'dealer_zip', 'engine_cylinders', 'engine_displacement',\n",
       "       'franchise_dealer', 'front_legroom', 'fuel_tank_volume', 'fuel_type',\n",
       "       'height', 'highway_fuel_economy', 'horsepower', 'is_new', 'latitude',\n",
       "       'length', 'listed_date', 'listing_color', 'longitude', 'make_name',\n",
       "       'maximum_seating', 'mileage', 'model_name', 'power', 'price',\n",
       "       'savings_amount', 'seller_rating', 'torque', 'transmission',\n",
       "       'transmission_display', 'wheel_system_display', 'wheelbase', 'width',\n",
       "       'year'],\n",
       "      dtype='object')"
      ]
     },
     "execution_count": 8,
     "metadata": {},
     "output_type": "execute_result"
    }
   ],
   "source": [
    "df_car.columns"
   ]
  },
  {
   "cell_type": "code",
   "execution_count": 9,
   "id": "47cc112f",
   "metadata": {
    "scrolled": false
   },
   "outputs": [],
   "source": [
    "#Because of memory issues, need to cut down on categorical values\n",
    "#For models, I'll keep the ones with a count of at least 10k, the rest will be other. This represents about 2/3 \n",
    "top_10k_models = df_car.model_name.value_counts()[df_car.model_name.value_counts()>=10000].index.tolist()\n",
    "df_car['model_name'] = df_car['model_name'].apply(lambda x: 'other' if x not in top_10k_models else x)"
   ]
  },
  {
   "cell_type": "code",
   "execution_count": 10,
   "id": "471a10a2",
   "metadata": {},
   "outputs": [],
   "source": [
    "#Similarly, will select makers with a count of over 8k, below that seems like there are more rare and luxury cars\n",
    "top_8k_makers = df_car.make_name.value_counts()[df_car.make_name.value_counts()>=8000].index.tolist()\n",
    "df_car['make_name'] = df_car['make_name'].apply(lambda x: 'other' if x not in top_8k_makers else x)"
   ]
  },
  {
   "cell_type": "code",
   "execution_count": 11,
   "id": "45ac32bd",
   "metadata": {},
   "outputs": [],
   "source": [
    "#Create numerical values out of strings\n",
    "df_car['back_legroom'] = df_car['back_legroom'].replace(r'--', np.nan)\n",
    "df_car['back_legroom'] = df_car['back_legroom'].apply(lambda x: float(x[:-3]) if isinstance(x, str) else x)"
   ]
  },
  {
   "cell_type": "code",
   "execution_count": 12,
   "id": "55898d7a",
   "metadata": {},
   "outputs": [],
   "source": [
    "#Create numerical values out of strings\n",
    "df_car['front_legroom'] = df_car['front_legroom'].replace(r'--', np.nan)\n",
    "df_car['front_legroom'] = df_car['front_legroom'].apply(lambda x: float(x[:-3]) if isinstance(x, str) else x)"
   ]
  },
  {
   "cell_type": "code",
   "execution_count": 13,
   "id": "bcc67397",
   "metadata": {},
   "outputs": [],
   "source": [
    "#Create numerical values out of strings\n",
    "df_car['fuel_tank_volume'] = df_car['fuel_tank_volume'].replace(r'--', np.nan)\n",
    "df_car['fuel_tank_volume'] = df_car['fuel_tank_volume'].apply(lambda x: float(x[:-3]) if isinstance(x, str) else x)"
   ]
  },
  {
   "cell_type": "code",
   "execution_count": 14,
   "id": "61ea60cf",
   "metadata": {},
   "outputs": [],
   "source": [
    "#Create numerical values out of strings\n",
    "df_car['height'] = df_car['height'].replace(r'--', np.nan)\n",
    "df_car['height'] = df_car['height'].apply(lambda x: float(x[:-3]) if isinstance(x, str) else x)"
   ]
  },
  {
   "cell_type": "code",
   "execution_count": 15,
   "id": "e3fbc9eb",
   "metadata": {},
   "outputs": [],
   "source": [
    "#Create numerical values out of strings\n",
    "df_car['length'] = df_car['length'].replace(r'--', np.nan)\n",
    "df_car['length'] = df_car['length'].apply(lambda x: float(x[:-3]) if isinstance(x, str) else x)"
   ]
  },
  {
   "cell_type": "code",
   "execution_count": 16,
   "id": "13f712e8",
   "metadata": {},
   "outputs": [],
   "source": [
    "#Create numerical values out of strings\n",
    "df_car['maximum_seating'] = df_car['maximum_seating'].replace(r'--', np.nan)\n",
    "df_car['maximum_seating'] = df_car['maximum_seating'].apply(lambda x: float(x[:-6]) if isinstance(x, str) else x)"
   ]
  },
  {
   "cell_type": "code",
   "execution_count": 17,
   "id": "8c8609f0",
   "metadata": {},
   "outputs": [],
   "source": [
    "#Create numerical values out of strings\n",
    "df_car['wheelbase'] = df_car['wheelbase'].replace(r'--', np.nan)\n",
    "df_car['wheelbase'] = df_car['wheelbase'].apply(lambda x: float(x[:-3]) if isinstance(x, str) else x)"
   ]
  },
  {
   "cell_type": "code",
   "execution_count": 18,
   "id": "09dd65fe",
   "metadata": {},
   "outputs": [],
   "source": [
    "#Create numerical values out of strings\n",
    "df_car['width'] = df_car['width'].replace(r'--', np.nan)\n",
    "df_car['width'] = df_car['width'].apply(lambda x: float(x[:-3]) if isinstance(x, str) else x)"
   ]
  },
  {
   "cell_type": "code",
   "execution_count": 19,
   "id": "1be7571f",
   "metadata": {},
   "outputs": [],
   "source": [
    "#Some are negative, need to check why\n",
    "df_car['listing_age'] = df_car.listed_date.apply(lambda x: datetime.strptime(x, \"%Y-%m-%d\").year) - df_car.year"
   ]
  },
  {
   "cell_type": "code",
   "execution_count": 20,
   "id": "ca6851cd",
   "metadata": {},
   "outputs": [],
   "source": [
    "#Create numerical values out of strings\n",
    "df_car['power'] = df_car['power'].replace(r'--', np.nan)\n",
    "df_car['power'] = df_car['power'].apply(lambda x: int(x.replace(',', '').split(' hp')[0]) if isinstance(x, str) else x)"
   ]
  },
  {
   "cell_type": "code",
   "execution_count": 21,
   "id": "e463f0d1",
   "metadata": {},
   "outputs": [],
   "source": [
    "#Create numerical values out of strings\n",
    "df_car['torque'] = df_car['torque'].replace(r'--', np.nan)\n",
    "df_car['torque'] = df_car['torque'].apply(lambda x: int(x.replace(',', '').split(' lb-ft')[0]) if isinstance(x, str) else x)"
   ]
  },
  {
   "cell_type": "code",
   "execution_count": 22,
   "id": "0e8eb928",
   "metadata": {},
   "outputs": [],
   "source": [
    "#Code to convert zip code to states and then unto region, to cut down on dimensionality"
   ]
  },
  {
   "cell_type": "code",
   "execution_count": 23,
   "id": "77c70a0f",
   "metadata": {},
   "outputs": [],
   "source": [
    "search = SearchEngine()"
   ]
  },
  {
   "cell_type": "code",
   "execution_count": 24,
   "id": "ceb55049",
   "metadata": {},
   "outputs": [],
   "source": [
    "states_to_regions = {\n",
    "    'Washington': 'West', 'Oregon': 'West', 'California': 'West', 'Nevada': 'West',\n",
    "    'Idaho': 'West', 'Montana': 'West', 'Wyoming': 'West', 'Utah': 'West',\n",
    "    'Colorado': 'West', 'Alaska': 'West', 'Hawaii': 'West', 'Maine': 'Northeast',\n",
    "    'Vermont': 'Northeast', 'New York': 'Northeast', 'New Hampshire': 'Northeast',\n",
    "    'Massachusetts': 'Northeast', 'Rhode Island': 'Northeast', 'Connecticut': 'Northeast',\n",
    "    'New Jersey': 'Northeast', 'Pennsylvania': 'Northeast', 'North Dakota': 'Midwest',\n",
    "    'South Dakota': 'Midwest', 'Nebraska': 'Midwest', 'Kansas': 'Midwest',\n",
    "    'Minnesota': 'Midwest', 'Iowa': 'Midwest', 'Missouri': 'Midwest', 'Wisconsin': 'Midwest',\n",
    "    'Illinois': 'Midwest', 'Michigan': 'Midwest', 'Indiana': 'Midwest', 'Ohio': 'Midwest',\n",
    "    'West Virginia': 'South', 'District of Columbia': 'South', 'Maryland': 'South',\n",
    "    'Virginia': 'South', 'Kentucky': 'South', 'Tennessee': 'South', 'North Carolina': 'South',\n",
    "    'Mississippi': 'South', 'Arkansas': 'South', 'Louisiana': 'South', 'Alabama': 'South',\n",
    "    'Georgia': 'South', 'South Carolina': 'South', 'Florida': 'South', 'Delaware': 'South',\n",
    "    'Arizona': 'Southwest', 'New Mexico': 'Southwest', 'Oklahoma': 'Southwest',\n",
    "    'Texas': 'Southwest', 'Puerto Rico':'Puerto Rico'}"
   ]
  },
  {
   "cell_type": "code",
   "execution_count": 25,
   "id": "9be4a61d",
   "metadata": {},
   "outputs": [],
   "source": [
    "states = {\n",
    "        'AK': 'Alaska',\n",
    "        'AL': 'Alabama',\n",
    "        'AR': 'Arkansas',\n",
    "        'AS': 'American Samoa',\n",
    "        'AZ': 'Arizona',\n",
    "        'CA': 'California',\n",
    "        'CO': 'Colorado',\n",
    "        'CT': 'Connecticut',\n",
    "        'DC': 'District of Columbia',\n",
    "        'DE': 'Delaware',\n",
    "        'FL': 'Florida',\n",
    "        'GA': 'Georgia',\n",
    "        'GU': 'Guam',\n",
    "        'HI': 'Hawaii',\n",
    "        'IA': 'Iowa',\n",
    "        'ID': 'Idaho',\n",
    "        'IL': 'Illinois',\n",
    "        'IN': 'Indiana',\n",
    "        'KS': 'Kansas',\n",
    "        'KY': 'Kentucky',\n",
    "        'LA': 'Louisiana',\n",
    "        'MA': 'Massachusetts',\n",
    "        'MD': 'Maryland',\n",
    "        'ME': 'Maine',\n",
    "        'MI': 'Michigan',\n",
    "        'MN': 'Minnesota',\n",
    "        'MO': 'Missouri',\n",
    "        'MP': 'Northern Mariana Islands',\n",
    "        'MS': 'Mississippi',\n",
    "        'MT': 'Montana',\n",
    "        'NA': 'National',\n",
    "        'NC': 'North Carolina',\n",
    "        'ND': 'North Dakota',\n",
    "        'NE': 'Nebraska',\n",
    "        'NH': 'New Hampshire',\n",
    "        'NJ': 'New Jersey',\n",
    "        'NM': 'New Mexico',\n",
    "        'NV': 'Nevada',\n",
    "        'NY': 'New York',\n",
    "        'OH': 'Ohio',\n",
    "        'OK': 'Oklahoma',\n",
    "        'OR': 'Oregon',\n",
    "        'PA': 'Pennsylvania',\n",
    "        'PR': 'Puerto Rico',\n",
    "        'RI': 'Rhode Island',\n",
    "        'SC': 'South Carolina',\n",
    "        'SD': 'South Dakota',\n",
    "        'TN': 'Tennessee',\n",
    "        'TX': 'Texas',\n",
    "        'UT': 'Utah',\n",
    "        'VA': 'Virginia',\n",
    "        'VI': 'Virgin Islands',\n",
    "        'VT': 'Vermont',\n",
    "        'WA': 'Washington',\n",
    "        'WI': 'Wisconsin',\n",
    "        'WV': 'West Virginia',\n",
    "        'WY': 'Wyoming'\n",
    "}"
   ]
  },
  {
   "cell_type": "code",
   "execution_count": 26,
   "id": "512f6083",
   "metadata": {},
   "outputs": [
    {
     "data": {
      "text/plain": [
       "'Puerto Rico'"
      ]
     },
     "execution_count": 26,
     "metadata": {},
     "output_type": "execute_result"
    }
   ],
   "source": [
    "search.by_zipcode(960).state_long"
   ]
  },
  {
   "cell_type": "code",
   "execution_count": 27,
   "id": "81f18ba8",
   "metadata": {},
   "outputs": [],
   "source": [
    "def state_search(zipcode):\n",
    "    result = search.by_zipcode(zipcode).state_long\n",
    "    if  result == None:\n",
    "        return 'N/A'\n",
    "    else:\n",
    "        return result"
   ]
  },
  {
   "cell_type": "code",
   "execution_count": 28,
   "id": "a50743d8",
   "metadata": {},
   "outputs": [],
   "source": [
    "df_car['dealer_zip'] = df_car['dealer_zip'].apply(lambda x: x if isinstance(x, int) else x[:5])"
   ]
  },
  {
   "cell_type": "code",
   "execution_count": 29,
   "id": "158564ba",
   "metadata": {},
   "outputs": [],
   "source": [
    "#Find the state corresponding to a zipcode\n",
    "df_car['state'] = df_car['dealer_zip'].apply(state_search)"
   ]
  },
  {
   "cell_type": "code",
   "execution_count": 30,
   "id": "99839cfe",
   "metadata": {},
   "outputs": [],
   "source": [
    "#Find the region corresponding to a state\n",
    "df_car['region'] = df_car['state'].apply(lambda x: states_to_regions[x])"
   ]
  },
  {
   "cell_type": "code",
   "execution_count": 31,
   "id": "9992d073",
   "metadata": {},
   "outputs": [
    {
     "data": {
      "text/plain": [
       "South          892419\n",
       "Midwest        746586\n",
       "Southwest      465850\n",
       "West           452338\n",
       "Northeast      442743\n",
       "Puerto Rico       104\n",
       "Name: region, dtype: int64"
      ]
     },
     "execution_count": 31,
     "metadata": {},
     "output_type": "execute_result"
    }
   ],
   "source": [
    "df_car['region'].value_counts()"
   ]
  },
  {
   "cell_type": "code",
   "execution_count": 32,
   "id": "041cf65d",
   "metadata": {},
   "outputs": [],
   "source": [
    "#Drop all location related columns, only keeping region\n",
    "df_car.drop(['dealer_zip','state','latitude','longitude'], axis=1, inplace=True)"
   ]
  },
  {
   "cell_type": "code",
   "execution_count": 33,
   "id": "62a44a9b",
   "metadata": {},
   "outputs": [
    {
     "data": {
      "text/plain": [
       "Index(['back_legroom', 'body_type', 'city_fuel_economy', 'daysonmarket',\n",
       "       'engine_cylinders', 'engine_displacement', 'franchise_dealer',\n",
       "       'front_legroom', 'fuel_tank_volume', 'fuel_type', 'height',\n",
       "       'highway_fuel_economy', 'horsepower', 'is_new', 'length', 'listed_date',\n",
       "       'listing_color', 'make_name', 'maximum_seating', 'mileage',\n",
       "       'model_name', 'power', 'price', 'savings_amount', 'seller_rating',\n",
       "       'torque', 'transmission', 'transmission_display',\n",
       "       'wheel_system_display', 'wheelbase', 'width', 'year', 'listing_age',\n",
       "       'region'],\n",
       "      dtype='object')"
      ]
     },
     "execution_count": 33,
     "metadata": {},
     "output_type": "execute_result"
    }
   ],
   "source": [
    "df_car.columns"
   ]
  },
  {
   "cell_type": "code",
   "execution_count": 34,
   "id": "f9677664",
   "metadata": {},
   "outputs": [],
   "source": [
    "#Keeping listing color and eliminating exterior and interior color columns\n",
    "#Major options has lots of features, but dropping for now\n",
    "#Keeping make_name instead of franchise_make because it is more percise\n",
    "#Figure how to deal with car models"
   ]
  },
  {
   "cell_type": "code",
   "execution_count": 35,
   "id": "8eceb7e3",
   "metadata": {},
   "outputs": [],
   "source": [
    "#converting listed_date to datetime\n",
    "df_car['listed_date'] = pd.to_datetime(df_car['listed_date'])"
   ]
  },
  {
   "cell_type": "code",
   "execution_count": 36,
   "id": "fadf6c6a",
   "metadata": {},
   "outputs": [],
   "source": [
    "#convert to string and change day to 1 to match output from FRED\n",
    "df_car['listed_date'] = df_car['listed_date'].apply(lambda x: x.replace(day=1).strftime('%Y-%m-%d'))"
   ]
  },
  {
   "cell_type": "code",
   "execution_count": 37,
   "id": "42b75db2",
   "metadata": {},
   "outputs": [
    {
     "data": {
      "text/plain": [
       "2020-08-01    0.362917\n",
       "2020-09-01    0.180426\n",
       "2020-07-01    0.175458\n",
       "2020-06-01    0.073050\n",
       "2020-03-01    0.037126\n",
       "2020-02-01    0.030440\n",
       "2020-05-01    0.027651\n",
       "2020-01-01    0.022258\n",
       "2020-04-01    0.019710\n",
       "2019-12-01    0.018234\n",
       "2019-11-01    0.014104\n",
       "2019-10-01    0.010793\n",
       "2019-09-01    0.007459\n",
       "2019-08-01    0.005451\n",
       "2019-07-01    0.002999\n",
       "2019-06-01    0.001980\n",
       "2019-05-01    0.001643\n",
       "2019-03-01    0.001249\n",
       "2019-04-01    0.001216\n",
       "2019-02-01    0.000740\n",
       "2019-01-01    0.000722\n",
       "2018-12-01    0.000660\n",
       "2018-11-01    0.000523\n",
       "2018-10-01    0.000451\n",
       "2018-09-01    0.000364\n",
       "2018-08-01    0.000328\n",
       "2018-07-01    0.000255\n",
       "2018-06-01    0.000217\n",
       "2018-05-01    0.000170\n",
       "2018-03-01    0.000145\n",
       "2018-04-01    0.000132\n",
       "2017-09-01    0.000103\n",
       "2018-02-01    0.000096\n",
       "2017-12-01    0.000084\n",
       "2018-01-01    0.000081\n",
       "2017-08-01    0.000071\n",
       "2017-10-01    0.000070\n",
       "2017-11-01    0.000051\n",
       "2017-06-01    0.000043\n",
       "2016-10-01    0.000043\n",
       "2017-05-01    0.000039\n",
       "2017-04-01    0.000038\n",
       "2015-01-01    0.000034\n",
       "2017-03-01    0.000034\n",
       "2017-07-01    0.000031\n",
       "2017-02-01    0.000031\n",
       "2016-09-01    0.000025\n",
       "2017-01-01    0.000020\n",
       "2016-12-01    0.000020\n",
       "2016-03-01    0.000018\n",
       "2016-11-01    0.000016\n",
       "2016-07-01    0.000015\n",
       "2016-05-01    0.000015\n",
       "2016-08-01    0.000015\n",
       "2016-04-01    0.000014\n",
       "2016-02-01    0.000013\n",
       "2016-06-01    0.000012\n",
       "2015-12-01    0.000009\n",
       "2015-09-01    0.000009\n",
       "2015-08-01    0.000007\n",
       "Name: listed_date, dtype: float64"
      ]
     },
     "execution_count": 37,
     "metadata": {},
     "output_type": "execute_result"
    }
   ],
   "source": [
    "df_car.listed_date.value_counts()[:60]/len(df_car)"
   ]
  },
  {
   "cell_type": "code",
   "execution_count": 38,
   "id": "443a8cdc",
   "metadata": {},
   "outputs": [
    {
     "data": {
      "text/plain": [
       "torque                  0.172595\n",
       "highway_fuel_economy    0.163759\n",
       "city_fuel_economy       0.163759\n",
       "power                   0.160473\n",
       "back_legroom            0.080908\n",
       "front_legroom           0.058485\n",
       "engine_displacement     0.057461\n",
       "horsepower              0.057461\n",
       "fuel_tank_volume        0.053558\n",
       "maximum_seating         0.053256\n",
       "width                   0.053249\n",
       "height                  0.053245\n",
       "length                  0.053241\n",
       "wheelbase               0.053233\n",
       "wheel_system_display    0.048910\n",
       "mileage                 0.048128\n",
       "engine_cylinders        0.033527\n",
       "fuel_type               0.027574\n",
       "transmission_display    0.021395\n",
       "transmission            0.021395\n",
       "seller_rating           0.013624\n",
       "body_type               0.004514\n",
       "dtype: float64"
      ]
     },
     "execution_count": 38,
     "metadata": {},
     "output_type": "execute_result"
    }
   ],
   "source": [
    "(df_car.isnull().sum()/len(df_car)).sort_values(ascending=False)[(df_car.isnull().sum()/len(df_car)).sort_values(ascending=False)>0]"
   ]
  },
  {
   "cell_type": "code",
   "execution_count": 39,
   "id": "bca6a97f",
   "metadata": {},
   "outputs": [
    {
     "data": {
      "text/html": [
       "<div>\n",
       "<style scoped>\n",
       "    .dataframe tbody tr th:only-of-type {\n",
       "        vertical-align: middle;\n",
       "    }\n",
       "\n",
       "    .dataframe tbody tr th {\n",
       "        vertical-align: top;\n",
       "    }\n",
       "\n",
       "    .dataframe thead th {\n",
       "        text-align: right;\n",
       "    }\n",
       "</style>\n",
       "<table border=\"1\" class=\"dataframe\">\n",
       "  <thead>\n",
       "    <tr style=\"text-align: right;\">\n",
       "      <th></th>\n",
       "      <th>body_type_lookup</th>\n",
       "      <th>mileage_lookup</th>\n",
       "    </tr>\n",
       "  </thead>\n",
       "  <tbody>\n",
       "    <tr>\n",
       "      <th>0</th>\n",
       "      <td>Convertible</td>\n",
       "      <td>39613.715781</td>\n",
       "    </tr>\n",
       "    <tr>\n",
       "      <th>1</th>\n",
       "      <td>Coupe</td>\n",
       "      <td>35712.139325</td>\n",
       "    </tr>\n",
       "    <tr>\n",
       "      <th>2</th>\n",
       "      <td>Hatchback</td>\n",
       "      <td>37324.267986</td>\n",
       "    </tr>\n",
       "    <tr>\n",
       "      <th>3</th>\n",
       "      <td>Minivan</td>\n",
       "      <td>46693.737710</td>\n",
       "    </tr>\n",
       "    <tr>\n",
       "      <th>4</th>\n",
       "      <td>Pickup Truck</td>\n",
       "      <td>31586.115560</td>\n",
       "    </tr>\n",
       "    <tr>\n",
       "      <th>5</th>\n",
       "      <td>SUV / Crossover</td>\n",
       "      <td>26506.844029</td>\n",
       "    </tr>\n",
       "    <tr>\n",
       "      <th>6</th>\n",
       "      <td>Sedan</td>\n",
       "      <td>35774.166422</td>\n",
       "    </tr>\n",
       "    <tr>\n",
       "      <th>7</th>\n",
       "      <td>Van</td>\n",
       "      <td>29756.836356</td>\n",
       "    </tr>\n",
       "    <tr>\n",
       "      <th>8</th>\n",
       "      <td>Wagon</td>\n",
       "      <td>51886.938607</td>\n",
       "    </tr>\n",
       "  </tbody>\n",
       "</table>\n",
       "</div>"
      ],
      "text/plain": [
       "  body_type_lookup  mileage_lookup\n",
       "0      Convertible    39613.715781\n",
       "1            Coupe    35712.139325\n",
       "2        Hatchback    37324.267986\n",
       "3          Minivan    46693.737710\n",
       "4     Pickup Truck    31586.115560\n",
       "5  SUV / Crossover    26506.844029\n",
       "6            Sedan    35774.166422\n",
       "7              Van    29756.836356\n",
       "8            Wagon    51886.938607"
      ]
     },
     "execution_count": 39,
     "metadata": {},
     "output_type": "execute_result"
    }
   ],
   "source": [
    "df_na_lookup = df_car.groupby('body_type').mean().reset_index()\n",
    "df_na_lookup = df_na_lookup.add_suffix('_lookup')\n",
    "df_na_lookup[['body_type_lookup','mileage_lookup']]"
   ]
  },
  {
   "cell_type": "code",
   "execution_count": 40,
   "id": "299bc73b",
   "metadata": {},
   "outputs": [],
   "source": [
    "df_car_final = pd.merge(df_car, df_na_lookup, left_on='body_type', right_on='body_type_lookup', how='left')"
   ]
  },
  {
   "cell_type": "code",
   "execution_count": 41,
   "id": "492db09a",
   "metadata": {},
   "outputs": [
    {
     "data": {
      "text/plain": [
       "True"
      ]
     },
     "execution_count": 41,
     "metadata": {},
     "output_type": "execute_result"
    }
   ],
   "source": [
    "'seller_rating_lookup' in df_car_final.columns"
   ]
  },
  {
   "cell_type": "code",
   "execution_count": 42,
   "id": "95605139",
   "metadata": {},
   "outputs": [],
   "source": [
    "#Replace null values for numerical columns by their average by body type\n",
    "#'wheel_system_display',\n",
    "#'engine_cylinders'\n",
    "#'fuel_type', 'transmission_display','transmission', \n",
    "cols_nulls = ['torque', 'highway_fuel_economy', 'city_fuel_economy', 'power', 'back_legroom', 'front_legroom', \n",
    "'engine_displacement', 'horsepower', 'fuel_tank_volume', 'maximum_seating', 'width', 'height', 'length', \n",
    "'wheelbase', 'mileage','seller_rating']\n",
    "for col in cols_nulls:\n",
    "    df_car_final[col+'_full'] = df_car_final.apply(lambda x: x[col+'_lookup'] if np.isnan(x[col]) else x[col], axis=1)"
   ]
  },
  {
   "cell_type": "code",
   "execution_count": 43,
   "id": "9a3e76b7",
   "metadata": {},
   "outputs": [],
   "source": [
    "#Drop original numerical cols that had nulls\n",
    "df_car_final.drop(cols_nulls, axis=1, inplace=True)"
   ]
  },
  {
   "cell_type": "code",
   "execution_count": 44,
   "id": "ad4067bc",
   "metadata": {},
   "outputs": [],
   "source": [
    "#Drop lookup columns\n",
    "cols_lookup = [col for col in df_car_final.columns if col[-7:]=='_lookup']\n",
    "df_car_final.drop(cols_lookup, axis=1, inplace=True)"
   ]
  },
  {
   "cell_type": "code",
   "execution_count": 45,
   "id": "0a9fb83a",
   "metadata": {},
   "outputs": [],
   "source": [
    "#Get rid of _full at the end of numerical variables\n",
    "df_car_final.columns = df_car_final.columns.str.replace('_full','')"
   ]
  },
  {
   "cell_type": "code",
   "execution_count": 46,
   "id": "4e79b4ee",
   "metadata": {},
   "outputs": [],
   "source": [
    "#Remaining nulls are in categorical values, will drop them since imputing is not helpful and there aren't that many of them\n",
    "#Lose 250k rows, but we still have 2.75mm. Good enough\n",
    "df_car_final.dropna(inplace=True)"
   ]
  },
  {
   "cell_type": "markdown",
   "id": "2031348c",
   "metadata": {},
   "source": [
    "## Bringing in FRED Data"
   ]
  },
  {
   "cell_type": "code",
   "execution_count": 47,
   "id": "fb13278b",
   "metadata": {},
   "outputs": [],
   "source": [
    "#Fred Data\n",
    "fred = fa.Fred(api_key='2268954bdb0755419c205b75e2c59d3a')"
   ]
  },
  {
   "cell_type": "code",
   "execution_count": 48,
   "id": "428873cc",
   "metadata": {},
   "outputs": [],
   "source": [
    "#gdp = fred.get_series('GDP')\n",
    "#gdp.name = 'GDP'\n",
    "unemployment = fred.get_series('UNRATE')\n",
    "unemployment.name = 'Unemployment Rate'\n",
    "sticky_cpi = fred.get_series('CORESTICKM159SFRBATL')\n",
    "sticky_cpi.name = 'Sticky CPI'\n",
    "food_cpi = fred.get_series('CPIUFDSL')\n",
    "food_cpi.name = 'Food CPI'\n",
    "mortgage_rate = fred.get_series('MORTGAGE30US')\n",
    "mortgage_rate.name = 'Mortgage Rate'\n",
    "personal_income = fred.get_series('PI')\n",
    "personal_income.name = 'Personal Income'\n",
    "savings = fred.get_series('PSAVERT')\n",
    "savings.name = 'Savings'\n",
    "yield_10y = fred.get_series('DGS10')\n",
    "yield_10y.name = '10y Yield'"
   ]
  },
  {
   "cell_type": "code",
   "execution_count": 49,
   "id": "6164ff21",
   "metadata": {},
   "outputs": [],
   "source": [
    "#resample and adjust to fit the car df for the join\n",
    "mortgage_rate = mortgage_rate.resample('M').mean()\n",
    "mortgage_rate.index = mortgage_rate.index - pd.to_timedelta(mortgage_rate.index.day - 1, unit='d')\n",
    "\n",
    "yield_10y = yield_10y.resample('M').mean()\n",
    "yield_10y.index = yield_10y.index - pd.to_timedelta(yield_10y.index.day - 1, unit='d')"
   ]
  },
  {
   "cell_type": "code",
   "execution_count": 50,
   "id": "d44e5797",
   "metadata": {},
   "outputs": [],
   "source": [
    "df_econ = pd.DataFrame([mortgage_rate, yield_10y, savings, personal_income, food_cpi, sticky_cpi, unemployment]).T"
   ]
  },
  {
   "cell_type": "markdown",
   "id": "6a1c4869",
   "metadata": {},
   "source": [
    "## Combining the data"
   ]
  },
  {
   "cell_type": "code",
   "execution_count": 51,
   "id": "c1ae400c",
   "metadata": {},
   "outputs": [],
   "source": [
    "#Change listed date to datetime, so it matches the index of the other df\n",
    "df_car_final['listed_date'] = pd.to_datetime(df_car_final['listed_date'])"
   ]
  },
  {
   "cell_type": "code",
   "execution_count": 52,
   "id": "7fca4cdd",
   "metadata": {},
   "outputs": [],
   "source": [
    "df_final = pd.merge(df_car_final, df_econ, left_on='listed_date', right_on=df_econ.index, how='left')"
   ]
  },
  {
   "cell_type": "code",
   "execution_count": 53,
   "id": "d8c93f5c",
   "metadata": {},
   "outputs": [],
   "source": [
    "#Drop this column since it wont be used for modeling\n",
    "df_final.drop('listed_date', axis=1, inplace=True)\n",
    "#Dropping power since its so similar to horsepower and had more null values originally\n",
    "df_final.drop('power', axis=1, inplace=True)\n",
    "#dropping year since the listing age field captures this information in a better way for the model\n",
    "df_final.drop('year', axis=1, inplace=True)"
   ]
  },
  {
   "cell_type": "code",
   "execution_count": 54,
   "id": "83f13b83",
   "metadata": {},
   "outputs": [
    {
     "name": "stdout",
     "output_type": "stream",
     "text": [
      "<class 'pandas.core.frame.DataFrame'>\n",
      "Int64Index: 2751363 entries, 0 to 2751362\n",
      "Data columns (total 38 columns):\n",
      " #   Column                Dtype  \n",
      "---  ------                -----  \n",
      " 0   body_type             object \n",
      " 1   daysonmarket          int64  \n",
      " 2   engine_cylinders      object \n",
      " 3   franchise_dealer      bool   \n",
      " 4   fuel_type             object \n",
      " 5   is_new                bool   \n",
      " 6   listing_color         object \n",
      " 7   make_name             object \n",
      " 8   model_name            object \n",
      " 9   price                 float64\n",
      " 10  savings_amount        int64  \n",
      " 11  transmission          object \n",
      " 12  transmission_display  object \n",
      " 13  wheel_system_display  object \n",
      " 14  listing_age           int64  \n",
      " 15  region                object \n",
      " 16  torque                float64\n",
      " 17  highway_fuel_economy  float64\n",
      " 18  city_fuel_economy     float64\n",
      " 19  back_legroom          float64\n",
      " 20  front_legroom         float64\n",
      " 21  engine_displacement   float64\n",
      " 22  horsepower            float64\n",
      " 23  fuel_tank_volume      float64\n",
      " 24  maximum_seating       float64\n",
      " 25  width                 float64\n",
      " 26  height                float64\n",
      " 27  length                float64\n",
      " 28  wheelbase             float64\n",
      " 29  mileage               float64\n",
      " 30  seller_rating         float64\n",
      " 31  Mortgage Rate         float64\n",
      " 32  10y Yield             float64\n",
      " 33  Savings               float64\n",
      " 34  Personal Income       float64\n",
      " 35  Food CPI              float64\n",
      " 36  Sticky CPI            float64\n",
      " 37  Unemployment Rate     float64\n",
      "dtypes: bool(2), float64(23), int64(3), object(10)\n",
      "memory usage: 781.9+ MB\n"
     ]
    }
   ],
   "source": [
    "df_final.info()"
   ]
  },
  {
   "cell_type": "markdown",
   "id": "2baf4b2d",
   "metadata": {},
   "source": [
    "## Data Visualization"
   ]
  },
  {
   "cell_type": "code",
   "execution_count": 55,
   "id": "7e81fe9d",
   "metadata": {},
   "outputs": [],
   "source": [
    "#plt.figure(figsize=(20,12))\n",
    "#mask = np.triu(np.ones_like(df_final.corr(), dtype= bool))\n",
    "#sns.heatmap(df_final.corr(), annot=True, cmap='coolwarm', mask=mask,vmin=-1, vmax=1);"
   ]
  },
  {
   "cell_type": "code",
   "execution_count": 56,
   "id": "7d903f03",
   "metadata": {},
   "outputs": [],
   "source": [
    "#plt.figure(figsize=(8, 12))\n",
    "#sns.heatmap(df_final.corr()[['price']].sort_values(by='price', ascending=False), vmin=-1, vmax=1, annot=True, cmap='coolwarm');"
   ]
  },
  {
   "cell_type": "code",
   "execution_count": 58,
   "id": "c2d81350",
   "metadata": {},
   "outputs": [],
   "source": [
    "cols_numeric = df_final.select_dtypes(include=np.number).columns.tolist()[:19]"
   ]
  },
  {
   "cell_type": "code",
   "execution_count": 59,
   "id": "e6c3ff0c",
   "metadata": {},
   "outputs": [],
   "source": [
    "#plt.figure(figsize=(20,6))\n",
    "#for col in cols_numeric:\n",
    "#    sns.displot(df_final[col])"
   ]
  },
  {
   "cell_type": "code",
   "execution_count": 60,
   "id": "16adf55b",
   "metadata": {},
   "outputs": [],
   "source": [
    "#There are probably outliers in the data, but will worry about that in the second run\n",
    "#Prefer to get a baseline"
   ]
  },
  {
   "cell_type": "code",
   "execution_count": 59,
   "id": "a5443486",
   "metadata": {},
   "outputs": [
    {
     "data": {
      "text/plain": [
       "0"
      ]
     },
     "execution_count": 59,
     "metadata": {},
     "output_type": "execute_result"
    }
   ],
   "source": [
    "del(df_car)\n",
    "del(df_na_lookup)\n",
    "del(df_car_final)\n",
    "gc.collect()"
   ]
  },
  {
   "cell_type": "markdown",
   "id": "d4018d5a",
   "metadata": {},
   "source": [
    "## Model"
   ]
  },
  {
   "cell_type": "code",
   "execution_count": 60,
   "id": "40acfe2c",
   "metadata": {},
   "outputs": [],
   "source": [
    "df_model = pd.get_dummies(df_final)"
   ]
  },
  {
   "cell_type": "code",
   "execution_count": 64,
   "id": "f4441b87",
   "metadata": {},
   "outputs": [],
   "source": [
    "X = df_model.drop('price', axis=1)\n",
    "Y = df_model['price']\n",
    "X_train, X_test, y_train, y_test = train_test_split(X, Y, test_size=0.2)"
   ]
  },
  {
   "cell_type": "code",
   "execution_count": 67,
   "id": "55c5014b",
   "metadata": {},
   "outputs": [],
   "source": [
    "linear_reg = LinearRegression()"
   ]
  },
  {
   "cell_type": "code",
   "execution_count": 75,
   "id": "1bf00948",
   "metadata": {},
   "outputs": [
    {
     "data": {
      "text/plain": [
       "LinearRegression()"
      ]
     },
     "execution_count": 75,
     "metadata": {},
     "output_type": "execute_result"
    }
   ],
   "source": [
    "linear_reg.fit(X_train,y_train)"
   ]
  },
  {
   "cell_type": "code",
   "execution_count": 76,
   "id": "45c5d312",
   "metadata": {},
   "outputs": [],
   "source": [
    "y_pred = linear_reg.predict(X_test)"
   ]
  },
  {
   "cell_type": "code",
   "execution_count": 77,
   "id": "0e3083c7",
   "metadata": {},
   "outputs": [
    {
     "name": "stdout",
     "output_type": "stream",
     "text": [
      "8589.575032399227\n"
     ]
    }
   ],
   "source": [
    "#RMSE\n",
    "print(np.sqrt(mean_squared_error(y_test,y_pred)))"
   ]
  },
  {
   "cell_type": "code",
   "execution_count": 79,
   "id": "bde75c15",
   "metadata": {},
   "outputs": [
    {
     "data": {
      "text/plain": [
       "0.774412916222671"
      ]
     },
     "execution_count": 79,
     "metadata": {},
     "output_type": "execute_result"
    }
   ],
   "source": [
    "#R^2\n",
    "r2_score(y_test,y_pred)"
   ]
  },
  {
   "cell_type": "code",
   "execution_count": 81,
   "id": "5d6becc7",
   "metadata": {},
   "outputs": [
    {
     "data": {
      "text/plain": [
       "array([ 1.49343719e+00,  1.81463973e+03,  6.35873296e+03,  8.13358837e-01,\n",
       "       -9.30813989e+02,  4.81887186e+00, -3.26952177e+02,  2.53842252e+02,\n",
       "        1.94013291e+02,  1.17181355e+02, -4.21067206e+00,  1.35154072e+02,\n",
       "        7.40692891e+01, -4.06407325e+02,  6.98840571e+01, -1.80959302e+01,\n",
       "        1.37122361e+02, -7.26700890e+01, -6.70144765e-02,  1.02501155e+03,\n",
       "       -1.05982706e+03,  1.09383028e+03,  1.73131563e+02, -2.16907652e-01,\n",
       "        1.26785604e+02, -4.52009740e+01, -3.23758720e+02,  9.44552798e+03,\n",
       "        5.36468570e+03,  1.37025672e+03, -3.95353551e+03, -6.77592772e+03,\n",
       "       -1.03258639e+03, -3.11744756e+03, -1.59737487e+03,  2.96401661e+02,\n",
       "       -6.84725694e+04, -3.23397348e+05, -6.23054890e+04, -8.36612800e+04,\n",
       "       -8.13281456e+04, -3.21322416e+05, -8.16057605e+04, -1.55568674e+04,\n",
       "       -1.58159889e+04, -1.46694840e+04, -3.37973026e+05, -7.96336695e+04,\n",
       "       -1.63736351e+04,  7.89554069e+02, -7.66970547e+04, -3.29329393e+03,\n",
       "       -3.52349914e+05, -8.44016814e+04, -2.79940823e+04, -1.70757238e+04,\n",
       "        3.99582322e+04,  2.27603496e+06, -8.21470858e+04, -1.34865362e+04,\n",
       "       -1.78921744e+04, -1.41007815e+04, -1.72953890e+04, -3.38918096e+05,\n",
       "       -7.48295320e+04, -1.88272663e+04, -2.31704183e+04, -9.26483229e+03,\n",
       "       -1.62097651e+04, -3.44399080e+05, -2.95314442e+04, -5.38384663e+04,\n",
       "       -1.56883766e+04,  8.95677122e+05, -7.89331987e+04, -4.86874376e+04,\n",
       "       -5.66194601e+04, -5.87610664e+04, -6.38630146e+04, -2.12660935e+02,\n",
       "        2.57675084e+05, -2.95314442e+04, -7.64218175e+02, -6.57777857e+02,\n",
       "        6.61481992e+01, -6.46161611e+01, -1.03226355e+03,  1.14869289e+03,\n",
       "        6.10621617e+02,  1.49124827e+03,  3.36152119e+02, -3.96316825e+02,\n",
       "       -1.17032771e+03, -1.41411400e+03, -3.54988327e+02, -8.10265097e+02,\n",
       "        3.01202461e+03, -1.29840904e+03,  3.98312593e+03,  2.70711981e+02,\n",
       "       -3.93662402e+03,  1.90118690e+03, -6.68641295e+03, -5.00661809e+03,\n",
       "       -3.50599180e+03, -5.39133975e+03, -4.05844641e+02, -3.41771134e+03,\n",
       "       -3.29388140e+03, -1.22819750e+03,  1.73378990e+03,  1.10564628e+02,\n",
       "       -3.26118329e+03,  8.05270361e+03,  4.65579949e+03, -1.18162091e+03,\n",
       "        2.57029059e+03, -1.02301746e+03,  8.72089414e+03, -5.23650332e+02,\n",
       "       -3.23981728e+03,  2.13181009e+04, -5.13364255e+03, -1.36151431e+04,\n",
       "       -2.93493885e+02, -2.72080172e+03,  1.82799910e+01,  1.18279529e+04,\n",
       "       -3.31852365e+03,  2.92411783e+02,  7.76148952e+02,  6.39558587e+03,\n",
       "       -4.69837242e+03,  5.21978259e+02,  2.42506752e+03, -8.82797271e+02,\n",
       "       -6.11048675e+03,  9.40798242e+02, -2.84788993e+01, -4.29498766e+02,\n",
       "       -1.46036736e+04, -5.18782399e+03, -1.09563838e+04,  3.74635469e+03,\n",
       "        3.39445459e+03, -2.75181962e+03,  1.33236818e+03,  6.93277845e+03,\n",
       "       -1.55381924e+03,  3.29344304e+02, -3.52312421e+03,  3.42904363e+03,\n",
       "       -3.14470270e+02,  2.65396353e+03, -4.84182267e+02,  2.85586542e+03,\n",
       "        1.10960800e+03, -4.25653083e+03,  5.34199234e+03, -1.13512267e+03,\n",
       "       -3.14635452e+03, -2.65924998e+03,  3.23684158e+03,  1.43596945e+03,\n",
       "        1.72917404e+03, -1.71055629e+03, -2.50906482e+03,  9.69989250e+03,\n",
       "       -6.63812613e+03, -3.46600112e+03,  3.63879721e+03, -2.70768600e+02,\n",
       "       -1.98110887e+03,  6.79053060e+02, -6.53926552e+03,  1.42934749e+03,\n",
       "        4.89718998e+03,  3.13061254e+03,  1.10991078e+03, -1.64043292e+04,\n",
       "        4.13138174e+03,  7.46810810e+02,  7.72804586e+02,  2.68523446e+03,\n",
       "        2.73176559e+02, -4.09855159e+03,  2.67676686e+03,  2.14471203e+03,\n",
       "        6.44638646e+02, -4.11804211e+02, -8.38353699e+03,  3.25557426e+03,\n",
       "        5.37628796e+03, -7.35579003e+02,  4.14946755e+03, -3.50346135e+03,\n",
       "        1.33898025e+02, -5.82927529e+02,  1.41124956e+03, -2.58426650e+03,\n",
       "       -1.55707091e+02, -8.21447480e+01,  6.97075798e+03,  7.53751628e+03,\n",
       "        9.83752113e+03, -8.11892761e+03, -7.70341436e+02,  1.22557717e+02,\n",
       "        2.29705346e+03,  1.10714588e+03,  3.74942683e+03,  2.12502608e+03,\n",
       "       -6.29057379e+02,  2.67790514e+00,  2.63875285e+02, -1.37081231e+03,\n",
       "       -8.46988926e+02,  1.95392595e+03,  4.13163072e+03, -4.48822002e+01,\n",
       "        2.77366064e+03,  9.22630376e+02, -2.37351279e+03, -7.81444364e+04,\n",
       "       -1.16382003e+03,  8.32156076e+03,  8.84109540e+03,  3.66005869e+03,\n",
       "        3.26636100e+03,  3.61986574e+03,  1.65156924e+03,  1.45233667e+04,\n",
       "       -2.16929833e+04, -9.81281640e+01,  1.01916267e+03,  3.55245538e+03,\n",
       "        2.04475884e+03,  3.18591945e+03, -2.59095608e+03, -2.61859513e+03,\n",
       "        4.50047577e+02, -5.03667208e+02, -5.85744536e+03, -3.33992113e+03,\n",
       "       -4.20756956e+03, -2.73853081e+03,  4.35627022e+02,  5.99939327e+03,\n",
       "        3.58237240e+02,  3.49245965e-10, -1.82116096e+03, -1.77375682e+03,\n",
       "       -2.39743554e+03,  2.27227484e+03,  7.48023377e+03, -3.32613046e+02,\n",
       "       -2.49793806e+03,  6.15517613e+04, -1.21446028e+03, -1.06052212e+03,\n",
       "       -3.58933566e+03, -2.25614080e+03,  1.07430597e+03,  2.58302760e+03,\n",
       "        1.37239287e+02, -1.53843204e+03, -2.47566111e+03, -1.88623793e+03,\n",
       "        1.04292485e+04, -2.32119736e+03, -2.30865805e+03, -1.43749406e+03])"
      ]
     },
     "execution_count": 81,
     "metadata": {},
     "output_type": "execute_result"
    }
   ],
   "source": [
    "linear_reg.coef_"
   ]
  },
  {
   "cell_type": "code",
   "execution_count": null,
   "id": "668c97ca",
   "metadata": {},
   "outputs": [],
   "source": []
  }
 ],
 "metadata": {
  "kernelspec": {
   "display_name": "Python 3 (ipykernel)",
   "language": "python",
   "name": "python3"
  },
  "language_info": {
   "codemirror_mode": {
    "name": "ipython",
    "version": 3
   },
   "file_extension": ".py",
   "mimetype": "text/x-python",
   "name": "python",
   "nbconvert_exporter": "python",
   "pygments_lexer": "ipython3",
   "version": "3.8.10"
  }
 },
 "nbformat": 4,
 "nbformat_minor": 5
}
